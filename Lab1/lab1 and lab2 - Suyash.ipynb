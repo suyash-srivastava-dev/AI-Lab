{
 "cells": [
  {
   "cell_type": "markdown",
   "id": "11931c16",
   "metadata": {},
   "source": [
    "## Lab Assignment-01 and 02\n"
   ]
  },
  {
   "cell_type": "markdown",
   "id": "d21aaf86",
   "metadata": {},
   "source": [
    "#### 1.  L is a list defined as L= [11, 12, 13, 14].\n",
    "\n",
    "i. WAP to add 50 and 60 to L.\n"
   ]
  },
  {
   "cell_type": "code",
   "execution_count": 1,
   "id": "378c142e",
   "metadata": {
    "scrolled": true
   },
   "outputs": [
    {
     "name": "stdout",
     "output_type": "stream",
     "text": [
      "[11, 12, 13, 14, 50, 60]\n"
     ]
    }
   ],
   "source": [
    "L= [11,12,13,14]\n",
    "L.append(50)\n",
    "L.append(60)\n",
    "print(L)"
   ]
  },
  {
   "cell_type": "markdown",
   "id": "00a6bcd5",
   "metadata": {},
   "source": [
    "ii. WAP to remove 11 and 13from L."
   ]
  },
  {
   "cell_type": "code",
   "execution_count": 2,
   "id": "6f58b3fc",
   "metadata": {},
   "outputs": [
    {
     "name": "stdout",
     "output_type": "stream",
     "text": [
      "[12, 14, 50, 60]\n"
     ]
    }
   ],
   "source": [
    "L.remove(11)\n",
    "L.remove(13)\n",
    "print(L)"
   ]
  },
  {
   "cell_type": "markdown",
   "id": "c7c00a45",
   "metadata": {},
   "source": [
    "iii. WAP to sort L in descending order."
   ]
  },
  {
   "cell_type": "code",
   "execution_count": 3,
   "id": "a7a87afa",
   "metadata": {
    "scrolled": true
   },
   "outputs": [
    {
     "name": "stdout",
     "output_type": "stream",
     "text": [
      "[60, 50, 14, 12]\n"
     ]
    }
   ],
   "source": [
    "L.sort(reverse=True) # descending sorted to check\n",
    "print(L)"
   ]
  },
  {
   "cell_type": "markdown",
   "id": "fd8a7be5",
   "metadata": {},
   "source": [
    "iv. WAP to sort L in ascending order."
   ]
  },
  {
   "cell_type": "code",
   "execution_count": 4,
   "id": "242b3c45",
   "metadata": {},
   "outputs": [
    {
     "name": "stdout",
     "output_type": "stream",
     "text": [
      "[12, 14, 50, 60]\n"
     ]
    }
   ],
   "source": [
    "L.sort()\n",
    "print(L)"
   ]
  },
  {
   "cell_type": "markdown",
   "id": "ecc11c12",
   "metadata": {},
   "source": [
    "v. WAP to search for 13 in L."
   ]
  },
  {
   "cell_type": "code",
   "execution_count": 5,
   "id": "d7cdb6f5",
   "metadata": {
    "scrolled": true
   },
   "outputs": [
    {
     "name": "stdout",
     "output_type": "stream",
     "text": [
      "13 is present in list\n"
     ]
    }
   ],
   "source": [
    "L=[11,12,13,14]\n",
    "\n",
    "if 13 in L:\n",
    "    print(\"13 is present in list\")\n",
    "    "
   ]
  },
  {
   "cell_type": "markdown",
   "id": "47fff26f",
   "metadata": {},
   "source": [
    "vi. WAP to count the number of elements present in L."
   ]
  },
  {
   "cell_type": "code",
   "execution_count": 6,
   "id": "dd5f46ef",
   "metadata": {},
   "outputs": [
    {
     "name": "stdout",
     "output_type": "stream",
     "text": [
      "4\n"
     ]
    }
   ],
   "source": [
    "L=[11,12,13,14]\n",
    "\n",
    "print(len(L))"
   ]
  },
  {
   "cell_type": "markdown",
   "id": "8d5a369d",
   "metadata": {},
   "source": [
    "vii. WAP to sum all the elements in L."
   ]
  },
  {
   "cell_type": "code",
   "execution_count": 7,
   "id": "7089ff8f",
   "metadata": {},
   "outputs": [
    {
     "name": "stdout",
     "output_type": "stream",
     "text": [
      "50\n"
     ]
    }
   ],
   "source": [
    "L=[11,12,13,14]\n",
    "sum=0\n",
    "for i in L:\n",
    "    sum=sum+i\n",
    "print(sum)"
   ]
  },
  {
   "cell_type": "markdown",
   "id": "16f1bd93",
   "metadata": {},
   "source": [
    "viii. WAP to sum all ODD numbers in L."
   ]
  },
  {
   "cell_type": "code",
   "execution_count": 8,
   "id": "bcb36bdd",
   "metadata": {},
   "outputs": [
    {
     "name": "stdout",
     "output_type": "stream",
     "text": [
      "24\n"
     ]
    }
   ],
   "source": [
    "L=[11,12,13,14]\n",
    "sum=0\n",
    "for i in L:\n",
    "    if i%2!=0:\n",
    "        sum=sum+i\n",
    "print(sum)"
   ]
  },
  {
   "cell_type": "markdown",
   "id": "8f12210f",
   "metadata": {},
   "source": [
    "ix. WAP to sum all EVEN numbers in L."
   ]
  },
  {
   "cell_type": "code",
   "execution_count": 9,
   "id": "db037320",
   "metadata": {},
   "outputs": [
    {
     "name": "stdout",
     "output_type": "stream",
     "text": [
      "26\n"
     ]
    }
   ],
   "source": [
    "L=[11,12,13,14]\n",
    "sum=0\n",
    "for i in L:\n",
    "    if i%2==0:\n",
    "        sum=sum+i\n",
    "print(sum)"
   ]
  },
  {
   "cell_type": "markdown",
   "id": "42986338",
   "metadata": {},
   "source": [
    "x. WAP to sum all PRIME numbers in L."
   ]
  },
  {
   "cell_type": "code",
   "execution_count": 10,
   "id": "68a0fa37",
   "metadata": {},
   "outputs": [
    {
     "name": "stdout",
     "output_type": "stream",
     "text": [
      "24\n"
     ]
    }
   ],
   "source": [
    "\n",
    "def primeNumber(num):\n",
    "    flag = False\n",
    "    if num > 1:\n",
    "        # check for factors\n",
    "        for i in range(2, num):\n",
    "            if (num % i) == 0:\n",
    "                # if factor is found, set flag to True\n",
    "                flag = True\n",
    "            # break out of loop\n",
    "                break\n",
    "    # check if flag is True\n",
    "    if flag:\n",
    "        return False\n",
    "    else:\n",
    "        return True\n",
    "\n",
    "L=[11,12,13,14]\n",
    "sum=0\n",
    "for i in L:\n",
    "    if(primeNumber(i)):\n",
    "        sum=sum+i\n",
    "print(sum)"
   ]
  },
  {
   "cell_type": "markdown",
   "id": "1149d9ff",
   "metadata": {},
   "source": [
    "xi. WAP to clear all the elements in L."
   ]
  },
  {
   "cell_type": "code",
   "execution_count": 11,
   "id": "31a058e4",
   "metadata": {},
   "outputs": [
    {
     "name": "stdout",
     "output_type": "stream",
     "text": [
      "[11, 12, 13, 14]\n",
      "[]\n"
     ]
    }
   ],
   "source": [
    "L=[11,12,13,14]\n",
    "print(L)\n",
    "L.clear()\n",
    "print(L)"
   ]
  },
  {
   "cell_type": "markdown",
   "id": "cacd713d",
   "metadata": {},
   "source": [
    "xii. WAP to delete L."
   ]
  },
  {
   "cell_type": "code",
   "execution_count": 12,
   "id": "1d00f1cd",
   "metadata": {},
   "outputs": [
    {
     "name": "stdout",
     "output_type": "stream",
     "text": [
      "[11, 12, 13, 14]\n"
     ]
    }
   ],
   "source": [
    "L=[11,12,13,14]\n",
    "print(L)\n",
    "del L\n",
    "# print(L) would print error\n",
    "# [11, 12, 13, 14]\n",
    "# ---------------------------------------------------------------------------\n",
    "# NameError                                 Traceback (most recent call last)\n",
    "# Input In [12], in <cell line: 4>()\n",
    "#       2 print(L)\n",
    "#       3 del L\n",
    "# ----> 4 print(L)\n",
    "\n",
    "# NameError: name 'L' is not defined\n"
   ]
  },
  {
   "cell_type": "markdown",
   "id": "82be69d9",
   "metadata": {},
   "source": [
    "### 2. D is a dictionary defined as D= {1:5.6, 2:7.8, 3:6.6, 4:8.7, 5:7.7}."
   ]
  },
  {
   "cell_type": "markdown",
   "id": "2816457a",
   "metadata": {},
   "source": [
    "i. WAP to add new entry in D; key=8 and value is 8.8\n"
   ]
  },
  {
   "cell_type": "code",
   "execution_count": 13,
   "id": "71709b72",
   "metadata": {},
   "outputs": [
    {
     "name": "stdout",
     "output_type": "stream",
     "text": [
      "{1: 5.6, 2: 7.8, 3: 6.6, 4: 8.7, 5: 7.7, 8: 8.8}\n"
     ]
    }
   ],
   "source": [
    "D= {1:5.6, 2:7.8, 3:6.6, 4:8.7, 5:7.7}\n",
    "D[8]=8.8\n",
    "print(D)"
   ]
  },
  {
   "cell_type": "markdown",
   "id": "d21eb0c3",
   "metadata": {},
   "source": [
    "ii. WAP to remove key=2."
   ]
  },
  {
   "cell_type": "code",
   "execution_count": 14,
   "id": "f6b47c9c",
   "metadata": {},
   "outputs": [
    {
     "name": "stdout",
     "output_type": "stream",
     "text": [
      "{1: 5.6, 3: 6.6, 4: 8.7, 5: 7.7, 8: 8.8}\n"
     ]
    }
   ],
   "source": [
    "D.pop(2)\n",
    "print(D)"
   ]
  },
  {
   "cell_type": "markdown",
   "id": "a5952e14",
   "metadata": {},
   "source": [
    "iii. WAP to check weather 6 key is present in D"
   ]
  },
  {
   "cell_type": "code",
   "execution_count": 15,
   "id": "d78152f7",
   "metadata": {},
   "outputs": [
    {
     "name": "stdout",
     "output_type": "stream",
     "text": [
      "Key absent in Dictionary\n"
     ]
    }
   ],
   "source": [
    "if 6 in D:\n",
    "    print(\"Value present in Dictionary\")\n",
    "    print(D[6])\n",
    "else:\n",
    "    print(\"Key absent in Dictionary\")"
   ]
  },
  {
   "cell_type": "markdown",
   "id": "80c0a26b",
   "metadata": {},
   "source": [
    "iv. WAP to count the number of elements present in D."
   ]
  },
  {
   "cell_type": "code",
   "execution_count": 16,
   "id": "7625564b",
   "metadata": {},
   "outputs": [
    {
     "name": "stdout",
     "output_type": "stream",
     "text": [
      "5\n"
     ]
    }
   ],
   "source": [
    "print(len(D))"
   ]
  },
  {
   "cell_type": "markdown",
   "id": "9954f02f",
   "metadata": {},
   "source": [
    "v. WAP to add all the values present D."
   ]
  },
  {
   "cell_type": "code",
   "execution_count": 17,
   "id": "7b6e0135",
   "metadata": {},
   "outputs": [
    {
     "name": "stdout",
     "output_type": "stream",
     "text": [
      "37.4\n"
     ]
    }
   ],
   "source": [
    "sum=0;\n",
    "for i in D:\n",
    "    sum=sum+D[i]\n",
    "print(sum)"
   ]
  },
  {
   "cell_type": "markdown",
   "id": "ffa807fe",
   "metadata": {},
   "source": [
    "vi. WAP to update the value of 3 to 7.1."
   ]
  },
  {
   "cell_type": "code",
   "execution_count": 18,
   "id": "3bf9e40f",
   "metadata": {},
   "outputs": [
    {
     "name": "stdout",
     "output_type": "stream",
     "text": [
      "{1: 5.6, 3: 7.1, 4: 8.7, 5: 7.7, 8: 8.8}\n"
     ]
    }
   ],
   "source": [
    "D[3]=7.1\n",
    "print(D)"
   ]
  },
  {
   "cell_type": "markdown",
   "id": "160ce8cd",
   "metadata": {},
   "source": [
    "vii. WAP to clear the dictionary."
   ]
  },
  {
   "cell_type": "code",
   "execution_count": 19,
   "id": "0c0eeba5",
   "metadata": {},
   "outputs": [
    {
     "name": "stdout",
     "output_type": "stream",
     "text": [
      "{}\n"
     ]
    }
   ],
   "source": [
    "D.clear()\n",
    "print(D)"
   ]
  },
  {
   "cell_type": "markdown",
   "id": "e15e0a72",
   "metadata": {},
   "source": [
    "#### Q3. S1 is a set defined as S1= [10, 20, 30, 40, 50, 60].\n",
    "\n",
    "####       S2 is a set defined as S2= [40, 50, 60, 70, 80, 90]."
   ]
  },
  {
   "cell_type": "markdown",
   "id": "6959636c",
   "metadata": {},
   "source": [
    "i. WAP to add 55 and 66 in Set S1"
   ]
  },
  {
   "cell_type": "code",
   "execution_count": 20,
   "id": "12c6b9af",
   "metadata": {},
   "outputs": [
    {
     "name": "stdout",
     "output_type": "stream",
     "text": [
      "{50, 66, 20, 55, 40, 10, 60, 30}\n"
     ]
    }
   ],
   "source": [
    "S1= {10, 20, 30, 40, 50, 60}\n",
    "S2= {40, 50, 60, 70, 80, 90}\n",
    "\n",
    "S1.add(55)\n",
    "S1.add(66)\n",
    "\n",
    "print(S1)"
   ]
  },
  {
   "cell_type": "markdown",
   "id": "094b648e",
   "metadata": {},
   "source": [
    "ii. WAP to remove 10 and 30 from Set S1."
   ]
  },
  {
   "cell_type": "code",
   "execution_count": 21,
   "id": "08b4eebf",
   "metadata": {},
   "outputs": [
    {
     "name": "stdout",
     "output_type": "stream",
     "text": [
      "{50, 66, 20, 55, 40, 60}\n"
     ]
    }
   ],
   "source": [
    "S1.remove(10)\n",
    "S1.remove(30)\n",
    "print(S1)"
   ]
  },
  {
   "cell_type": "markdown",
   "id": "cfd18ace",
   "metadata": {},
   "source": [
    "iii. WAP to check whether 40 is present in S1"
   ]
  },
  {
   "cell_type": "code",
   "execution_count": 22,
   "id": "e23d149b",
   "metadata": {},
   "outputs": [
    {
     "name": "stdout",
     "output_type": "stream",
     "text": [
      "40 is present\n"
     ]
    }
   ],
   "source": [
    "flag=False\n",
    "for i in S1:\n",
    "    if(i==40):\n",
    "        flag=True\n",
    "\n",
    "if(flag):\n",
    "    print(\"40 is present\")\n",
    "else:\n",
    "    print(\"Absent\")\n",
    "    "
   ]
  },
  {
   "cell_type": "markdown",
   "id": "22d7ec4a",
   "metadata": {},
   "source": [
    "iv. WAP to find the union between S1 and S2"
   ]
  },
  {
   "cell_type": "code",
   "execution_count": 23,
   "id": "ea18f8e5",
   "metadata": {},
   "outputs": [
    {
     "name": "stdout",
     "output_type": "stream",
     "text": [
      "{66, 70, 40, 80, 50, 20, 55, 90, 60}\n"
     ]
    }
   ],
   "source": [
    "print(S1.union(S2))"
   ]
  },
  {
   "cell_type": "markdown",
   "id": "ca67f19d",
   "metadata": {},
   "source": [
    "v. WAP to find the intersection between S1 and S2."
   ]
  },
  {
   "cell_type": "code",
   "execution_count": 24,
   "id": "a3a49b8b",
   "metadata": {},
   "outputs": [
    {
     "name": "stdout",
     "output_type": "stream",
     "text": [
      "{40, 50, 60}\n"
     ]
    }
   ],
   "source": [
    "S1= {10, 20, 30, 40, 50, 60}\n",
    "S2= {40, 50, 60, 70, 80, 90}\n",
    "\n",
    "print(S1.intersection(S2))"
   ]
  },
  {
   "cell_type": "markdown",
   "id": "1f23afab",
   "metadata": {},
   "source": [
    "vi. WAP to find the S1 - S2"
   ]
  },
  {
   "cell_type": "code",
   "execution_count": 25,
   "id": "20b912f3",
   "metadata": {},
   "outputs": [
    {
     "name": "stdout",
     "output_type": "stream",
     "text": [
      "{10, 20, 30}\n"
     ]
    }
   ],
   "source": [
    "S1= {10, 20, 30, 40, 50, 60}\n",
    "S2= {40, 50, 60, 70, 80, 90}\n",
    "\n",
    "print(S1-S2)"
   ]
  },
  {
   "cell_type": "markdown",
   "id": "956e0ad6",
   "metadata": {},
   "source": [
    "#### Q4. Write the following program."
   ]
  },
  {
   "cell_type": "markdown",
   "id": "03a44ff9",
   "metadata": {},
   "source": [
    "i. WAP to print 100 random strings whose length between 6 and 8."
   ]
  },
  {
   "cell_type": "code",
   "execution_count": 26,
   "id": "be0819b6",
   "metadata": {},
   "outputs": [
    {
     "name": "stdout",
     "output_type": "stream",
     "text": [
      "qlcvflv ckcywzsq ihgpovf whoenckm mouupgw exojesr ombhohe oylyifw yvgdeb fgobvuop egagqzjy jctjxz ofypil sjamrsng rssrljyx wyprco geopezkn pmcmcxo oalvjfjh ywsulxt kgszvd sfbnxwz vpbxekla pmyfngy pvlizo wgykxoe aykayf yajfso zimgmus fahaodv mezrvd mjhbdiuc zmherdm abyjyxmc kzkojnh qnubkg hllplrql qvdqoaa vtptxh qvdvvib filrfcpb vcjfsfvc eqgteueu kljsfya fxvxnag iospppv sfhnruph cjhpolef xqagpti wwkonpz xehytsl sgwdqhax rnsemxv ukxoaa syledoay aiqzaisb trcshgo uvjaiilu tyzevz vkymqcc bdwwwh nzyligrr qvnsohck lzygmoyt soipyrp drvmoel rshbeng owfgsr pjbmorav yomnkc rsxkjawf kuehsmcp xstdon riwmeqfo cchysr sahsfyh ecsxkc blowapg ayvqftm zkeyii zpkcxzb sxsulxt mambems gqoptn nnaxxj fsammwz ssrwixhb gnxotgl tmrdhqdd pcgwsn ztqagip ldrajr lyerlh fkkfsvws kwlkvo ekoleqbp xnqudg nsrmfps hdhfbxiu lmyrmta "
     ]
    }
   ],
   "source": [
    "import random  \n",
    "import string\n",
    "for i in range(100):\n",
    "    result = ''.join((random.choice(string.ascii_lowercase) for x in range(random.randint(6,8))))\n",
    "    print(result,end=\" \")"
   ]
  },
  {
   "cell_type": "markdown",
   "id": "18e9883f",
   "metadata": {},
   "source": [
    "ii. WAP to print all prime numbers between 600 and 800."
   ]
  },
  {
   "cell_type": "code",
   "execution_count": 27,
   "id": "cd4b5b81",
   "metadata": {},
   "outputs": [
    {
     "name": "stdout",
     "output_type": "stream",
     "text": [
      "601 607 613 617 619 631 641 643 647 653 659 661 673 677 683 691 701 709 719 727 733 739 743 751 757 761 769 773 787 797 "
     ]
    }
   ],
   "source": [
    "for i in range(600,800):\n",
    "    if(primeNumber(i)):\n",
    "        print(i,end=\" \")"
   ]
  },
  {
   "cell_type": "markdown",
   "id": "d0c35bc1",
   "metadata": {},
   "source": [
    "iii. WAP to print all numbers between 100 and 1000 that are divisible by 7 and 9."
   ]
  },
  {
   "cell_type": "code",
   "execution_count": 28,
   "id": "8d2c35ef",
   "metadata": {},
   "outputs": [
    {
     "name": "stdout",
     "output_type": "stream",
     "text": [
      "126 189 252 315 378 441 504 567 630 693 756 819 882 945 "
     ]
    }
   ],
   "source": [
    "def divisibleBy(num):\n",
    "    if(num%7==0 and num%9==0):\n",
    "        return True\n",
    "    else:\n",
    "        return False\n",
    "\n",
    "for i in range(100,1000):\n",
    "    if(divisibleBy(i)):\n",
    "        print(i,end=\" \")"
   ]
  },
  {
   "cell_type": "markdown",
   "id": "b999d71d",
   "metadata": {},
   "source": [
    "#### Q5. WAP to create two lists of 10 random numbers between 10 and 30; Find"
   ]
  },
  {
   "cell_type": "code",
   "execution_count": 29,
   "id": "012b1e93",
   "metadata": {},
   "outputs": [
    {
     "name": "stdout",
     "output_type": "stream",
     "text": [
      "[19, 24, 13, 19, 20, 27, 20, 25, 21, 24]\n",
      "[10, 16, 14, 11, 22, 15, 14, 18, 27, 25]\n"
     ]
    }
   ],
   "source": [
    "rand_list1=[]\n",
    "rand_list2=[]\n",
    "n=10\n",
    "for i in range(n):\n",
    "    rand_list1.append(random.randint(10,30))\n",
    "    rand_list2.append(random.randint(10,30))\n",
    "print(rand_list1)\n",
    "print(rand_list2)"
   ]
  },
  {
   "cell_type": "markdown",
   "id": "e6099eb4",
   "metadata": {},
   "source": [
    "i. Common numbers in the two lists"
   ]
  },
  {
   "cell_type": "code",
   "execution_count": 30,
   "id": "273727fb",
   "metadata": {},
   "outputs": [
    {
     "name": "stdout",
     "output_type": "stream",
     "text": [
      "[19, 24, 13, 19, 20, 27, 20, 25, 21, 24]\n",
      "[10, 16, 14, 11, 22, 15, 14, 18, 27, 25]\n",
      "{25, 27}\n"
     ]
    }
   ],
   "source": [
    "set1=set({})\n",
    "set2=set({})\n",
    "\n",
    "print(rand_list1)\n",
    "print(rand_list2)\n",
    "\n",
    "for i in rand_list1:\n",
    "    set1.add(i)\n",
    "for j in rand_list2:\n",
    "    set2.add(j)\n",
    "\n",
    "\n",
    "print(set1.intersection(set2))"
   ]
  },
  {
   "cell_type": "markdown",
   "id": "bad2af1e",
   "metadata": {},
   "source": [
    "ii. Unique numbers in both the list"
   ]
  },
  {
   "cell_type": "code",
   "execution_count": 31,
   "id": "b6564cbe",
   "metadata": {},
   "outputs": [
    {
     "name": "stdout",
     "output_type": "stream",
     "text": [
      "[19, 24, 13, 19, 20, 27, 20, 25, 21, 24]\n",
      "[10, 16, 14, 11, 22, 15, 14, 18, 27, 25]\n",
      "{10, 11, 13, 14, 15, 16, 18, 19, 20, 21, 22, 24}\n"
     ]
    }
   ],
   "source": [
    "set1=set({})\n",
    "set2=set({})\n",
    "\n",
    "print(rand_list1)\n",
    "print(rand_list2)\n",
    "\n",
    "for i in rand_list1:\n",
    "    set1.add(i)\n",
    "for j in rand_list2:\n",
    "    set2.add(j)\n",
    "\n",
    "\n",
    "print(set1.symmetric_difference(set2))"
   ]
  },
  {
   "cell_type": "markdown",
   "id": "d8f6cd43",
   "metadata": {},
   "source": [
    "iii. Minimum in both the list"
   ]
  },
  {
   "cell_type": "code",
   "execution_count": 32,
   "id": "79d2d469",
   "metadata": {},
   "outputs": [
    {
     "name": "stdout",
     "output_type": "stream",
     "text": [
      "[19, 24, 13, 19, 20, 27, 20, 25, 21, 24, 10, 16, 14, 11, 22, 15, 14, 18, 27, 25]\n",
      "10\n"
     ]
    }
   ],
   "source": [
    "listUnion=rand_list1+rand_list2\n",
    "print(listUnion)\n",
    "print(min(listUnion))\n",
    "\n",
    "# OR\n",
    "# listUnion.sort()\n",
    "# print(listUnion)\n",
    "# print(listUnion[0])\n",
    "    "
   ]
  },
  {
   "cell_type": "markdown",
   "id": "37dd94d0",
   "metadata": {},
   "source": [
    "iv. Maximum in both the list"
   ]
  },
  {
   "cell_type": "code",
   "execution_count": 33,
   "id": "6c866839",
   "metadata": {},
   "outputs": [
    {
     "name": "stdout",
     "output_type": "stream",
     "text": [
      "[19, 24, 13, 19, 20, 27, 20, 25, 21, 24, 10, 16, 14, 11, 22, 15, 14, 18, 27, 25]\n",
      "27\n"
     ]
    }
   ],
   "source": [
    "print(listUnion)\n",
    "print(max(listUnion))"
   ]
  },
  {
   "cell_type": "markdown",
   "id": "05f12894",
   "metadata": {},
   "source": [
    "v. Sum of both the lists"
   ]
  },
  {
   "cell_type": "code",
   "execution_count": 34,
   "id": "b9ba849b",
   "metadata": {},
   "outputs": [
    {
     "name": "stdout",
     "output_type": "stream",
     "text": [
      "[19, 24, 13, 19, 20, 27, 20, 25, 21, 24, 10, 16, 14, 11, 22, 15, 14, 18, 27, 25]\n",
      "384\n"
     ]
    }
   ],
   "source": [
    "print(listUnion)\n",
    "sumMax=0\n",
    "for i in listUnion:\n",
    "    sumMax=sumMax+i\n",
    "print(sumMax)"
   ]
  },
  {
   "cell_type": "markdown",
   "id": "569733ef",
   "metadata": {},
   "source": [
    "#### Q6. WAP to create a list of 100 random numbers between 100 and 900. Count and print the:\n"
   ]
  },
  {
   "cell_type": "code",
   "execution_count": 35,
   "id": "be564704",
   "metadata": {},
   "outputs": [
    {
     "name": "stdout",
     "output_type": "stream",
     "text": [
      "[149, 610, 734, 350, 432, 850, 685, 697, 861, 586, 178, 712, 129, 174, 672, 120, 602, 474, 622, 755, 358, 525, 656, 612, 660, 264, 632, 708, 221, 172, 178, 530, 547, 299, 719, 798, 789, 889, 186, 220, 717, 687, 729, 131, 839, 555, 766, 431, 634, 304, 180, 637, 792, 532, 582, 248, 632, 534, 161, 107, 341, 187, 180, 133, 722, 125, 394, 456, 559, 815, 823, 609, 186, 282, 755, 615, 531, 511, 836, 376, 721, 227, 259, 815, 889, 203, 259, 190, 401, 589, 228, 255, 192, 751, 618, 145, 568, 354, 595, 637]\n"
     ]
    }
   ],
   "source": [
    "listOfHundred=[]\n",
    "for i in range(100):\n",
    "    listOfHundred.append(random.randint(100,900))\n",
    "\n",
    "print(listOfHundred)"
   ]
  },
  {
   "cell_type": "markdown",
   "id": "6d9f7059",
   "metadata": {},
   "source": [
    "i. All odd numbers\n"
   ]
  },
  {
   "cell_type": "code",
   "execution_count": 36,
   "id": "f85623f3",
   "metadata": {},
   "outputs": [
    {
     "name": "stdout",
     "output_type": "stream",
     "text": [
      "149 685 697 861 129 755 525 221 547 299 719 789 889 717 687 729 131 839 555 431 637 161 107 341 187 133 125 559 815 823 609 755 615 531 511 721 227 259 815 889 203 259 401 589 255 751 145 595 637 "
     ]
    }
   ],
   "source": [
    "for i in listOfHundred:\n",
    "    if(i%2!=0):\n",
    "        print(i, end =\" \")"
   ]
  },
  {
   "cell_type": "markdown",
   "id": "22120e15",
   "metadata": {},
   "source": [
    "ii. All even numbers"
   ]
  },
  {
   "cell_type": "code",
   "execution_count": 37,
   "id": "66393e1a",
   "metadata": {},
   "outputs": [
    {
     "name": "stdout",
     "output_type": "stream",
     "text": [
      "610 734 350 432 850 586 178 712 174 672 120 602 474 622 358 656 612 660 264 632 708 172 178 530 798 186 220 766 634 304 180 792 532 582 248 632 534 180 722 394 456 186 282 836 376 190 228 192 618 568 354 "
     ]
    }
   ],
   "source": [
    "for i in listOfHundred:\n",
    "    if(i%2==0):\n",
    "        print(i, end =\" \")"
   ]
  },
  {
   "cell_type": "markdown",
   "id": "b1686e9b",
   "metadata": {},
   "source": [
    "iii. All prime numbers"
   ]
  },
  {
   "cell_type": "code",
   "execution_count": 38,
   "id": "624eb7e5",
   "metadata": {},
   "outputs": [
    {
     "name": "stdout",
     "output_type": "stream",
     "text": [
      "149 547 719 131 839 431 107 823 227 401 751 "
     ]
    }
   ],
   "source": [
    "for i in listOfHundred:\n",
    "    if(primeNumber(i)):\n",
    "        print(i, end =\" \")"
   ]
  },
  {
   "cell_type": "markdown",
   "id": "ba38d814",
   "metadata": {},
   "source": [
    "#### Q7. D is a dictionary defined as D={1:\"One\",2:\"Two\",3:\"Three\",4:\"Four\", 5:\"Five\"}. WAP to read all the keys and values from dictionary and write to the file in the given below format.\n",
    "\n",
    " Key1, Value1\n",
    " \n",
    " Key2, Value2\n",
    " \n",
    " Key3, Value3"
   ]
  },
  {
   "cell_type": "code",
   "execution_count": 39,
   "id": "bf515491",
   "metadata": {},
   "outputs": [
    {
     "name": "stdout",
     "output_type": "stream",
     "text": [
      "1 , One\n",
      "2 , Two\n",
      "3 , Three\n",
      "4 , Four\n",
      "5 , Five\n"
     ]
    }
   ],
   "source": [
    "D={1:\"One\",2:\"Two\",3:\"Three\",4:\"Four\", 5:\"Five\"}\n",
    "for i in D:\n",
    "    print(i,\",\",D[i])"
   ]
  },
  {
   "cell_type": "markdown",
   "id": "52e12a93",
   "metadata": {},
   "source": [
    "#### Q8. L is a list defined as L={\"One\",\"Two\",\"Three\",\"Four\",\"Five\"}. WAP to count the length of each element from a list and write to the file in the given below format:\n",
    "\n",
    " One, 3\n",
    " \n",
    " Two, 3\n",
    " \n",
    " Four, 4"
   ]
  },
  {
   "cell_type": "code",
   "execution_count": 40,
   "id": "1eb10199",
   "metadata": {},
   "outputs": [
    {
     "name": "stdout",
     "output_type": "stream",
     "text": [
      "Two , 3\n",
      "Four , 4\n",
      "Three , 5\n",
      "Five , 4\n",
      "One , 3\n"
     ]
    }
   ],
   "source": [
    "L={\"One\",\"Two\",\"Three\",\"Four\",\"Five\"}\n",
    "for i in L:\n",
    "    print(i,\",\",len(i))"
   ]
  },
  {
   "cell_type": "markdown",
   "id": "134f3d12",
   "metadata": {},
   "source": [
    "#### Q9. Write to the file 100 random strings whose length between 10 and 15"
   ]
  },
  {
   "cell_type": "code",
   "execution_count": 41,
   "id": "04fa60f8",
   "metadata": {},
   "outputs": [
    {
     "name": "stdout",
     "output_type": "stream",
     "text": [
      "0 mldzukeujpljh  1 nqpnsrvwynt  2 tnyublfjwlawx  3 fsxqubnoup  4 nfvyeejozcldwbg  5 oxphhuykvnabx  6 bctjdpyuhl  7 navrxbaeblmfddc  8 zlhsawmfzzugi  9 nvlbfrtuqhcag  10 dlxvehewgns  11 jzgmlidfsrx  12 wmbbhlumcaaikmv  13 nqpqshatdsmaixb  14 zskfhbtrwflwyd  15 gnexhzbrrdyzan  16 wajqfxtupie  17 dgdrbjmuttnuwwn  18 wivjwtbvduj  19 drsbejxqtlomchc  20 qpwutunesbknitg  21 temmezstcsl  22 rwgmtbxbpzv  23 mhhfsixxsuaku  24 tylgrzmkhasdbe  25 vqcowqvusjljx  26 rwxrpwmbwkea  27 lcnksmkgkewug  28 lodmkojnnlknoh  29 bpocpxcmbnbyin  30 fissgxmyqrsvz  31 vsoglnhzuaao  32 pcmtyzbmvym  33 vgxioloxny  34 yzeqsrfzdn  35 vmfzbzgejxkwchv  36 qoislnnowxnecvv  37 xapsnobhye  38 bhxpkjxywvyz  39 jzmuirswuviphau  40 xdyacvtkinkzn  41 cwaketwrgoriudl  42 uzgbyrtqrc  43 xjfgtauohbpe  44 tfmgwebvuce  45 qkzpynkaahwbux  46 afaprxwibhri  47 tyqvskvrarkjhbh  48 dccyvszkxof  49 lofmvwdxpvwa  50 bukbawtjcrd  51 cxmxwjmepm  52 hmmjbatcwc  53 zrmebylatlba  54 lrorhyscmdp  55 cksxucdareh  56 wszrvjgqnms  57 sggrlkvcgpkfwks  58 rsgladrvdugamza  59 wcswjpqfsujef  60 oiinbqfezd  61 ejfsvnwhipx  62 gfduuemkjkwkhoi  63 swywfwhddlb  64 vbhuasceofccrye  65 frvtntifxb  66 zvkcvfzayejaqw  67 kddxjrssafhdcrt  68 syhyyhgwlpbgq  69 kazugzxgcxfjrt  70 xkbcuwswrcjatc  71 fwlcurzutsh  72 vvfrtgimnvvcrc  73 kfzqmrzgvouqk  74 arztiqoqsi  75 oxvddzunpaufkl  76 gpijmkvrbdwxl  77 dtiigraped  78 enntknktjuyyz  79 xeufateeirobfh  80 dzrghmvimrbb  81 xnzocrhosddlvx  82 xpqntavlhwtkm  83 aqztlvstulbx  84 ylnizvlgylwrd  85 gidovcgmgumj  86 aaoeqtkxdfpfdr  87 rblwbvqshfa  88 iwifligklxi  89 upgnxvraghfkwyh  90 zzaqjzdyjqsms  91 mbqlbxbhjh  92 puvfnqafhby  93 nqjncgupjb  94 pzonqifgolxxw  95 ftbcfcunrpqhse  96 wwumsvucxdtarxw  97 svlwbutgkyn  98 aiuqqirjpzynpi  99 orbwsqrsxsrholz  \n"
     ]
    }
   ],
   "source": [
    "import random\n",
    "import string\n",
    "\n",
    "f = open(\"question9.txt\", \"a\")\n",
    "for i in range(100):\n",
    "    result = ''.join((random.choice(string.ascii_lowercase) for x in range(random.randint(10,15))))\n",
    "#     print(i,result,end=\" \")\n",
    "    f.write(str(i)+\" \"+result+\"  \")\n",
    "f.close()\n",
    "f = open(\"question9.txt\", \"r\")\n",
    "print(f.read())"
   ]
  },
  {
   "cell_type": "markdown",
   "id": "2bb61219",
   "metadata": {},
   "source": [
    "#### Q10. Write to the file all prime numbers between 600 and 800."
   ]
  },
  {
   "cell_type": "code",
   "execution_count": 42,
   "id": "b2329f06",
   "metadata": {},
   "outputs": [
    {
     "name": "stdout",
     "output_type": "stream",
     "text": [
      "601 607 613 617 619 631 641 643 647 653 659 661 673 677 683 691 701 709 719 727 733 739 743 751 757 761 769 773 787 797 \n"
     ]
    }
   ],
   "source": [
    "f = open(\"question10.txt\", \"a\")\n",
    "for i in range(600,800):\n",
    "    if(primeNumber(i)):\n",
    "        f.write(str(i)+\" \")\n",
    "f.close()\n",
    "f = open(\"question10.txt\", \"r\")\n",
    "print(f.read())      "
   ]
  },
  {
   "cell_type": "markdown",
   "id": "18d3c5a9",
   "metadata": {},
   "source": [
    "#### Q11. WAP to calculate the time taken by a program."
   ]
  },
  {
   "cell_type": "code",
   "execution_count": 43,
   "id": "f43672f8",
   "metadata": {},
   "outputs": [
    {
     "name": "stdout",
     "output_type": "stream",
     "text": [
      "0 1 2 3 4 \n",
      "1661781841.0086985 1661781841.0091414 0.0004429817199707031\n"
     ]
    }
   ],
   "source": [
    "import time\n",
    "begin = time.time()\n",
    "for i in range(5):\n",
    "    print(i,end=\" \")\n",
    "print()\n",
    "end=time.time()\n",
    "print(begin,end,end-begin)\n",
    "  "
   ]
  },
  {
   "cell_type": "markdown",
   "id": "c7316ab7",
   "metadata": {},
   "source": [
    "#### Q12. WAP to create a dictionary of student marks in five subjects and you have to find the student having maximum and minimum average marks."
   ]
  },
  {
   "cell_type": "code",
   "execution_count": 44,
   "id": "10482d5d",
   "metadata": {},
   "outputs": [
    {
     "name": "stdout",
     "output_type": "stream",
     "text": [
      "{'English': 69, 'Hindi': 74, 'Maths': 83, 'CSE': 77, 'EE': 74}\n",
      "{'English': 80, 'Hindi': 91, 'Maths': 98, 'CSE': 81, 'EE': 75}\n",
      "{'English': 95, 'Hindi': 82, 'Maths': 66, 'CSE': 92, 'EE': 70}\n",
      "{'English': 52, 'Hindi': 61, 'Maths': 78, 'CSE': 56, 'EE': 95}\n",
      "{'English': 54, 'Hindi': 86, 'Maths': 87, 'CSE': 96, 'EE': 51}\n",
      "{'English': 77, 'Hindi': 52, 'Maths': 67, 'CSE': 96, 'EE': 72}\n",
      "{'English': 53, 'Hindi': 96, 'Maths': 87, 'CSE': 55, 'EE': 96}\n",
      "{'English': 95, 'Hindi': 71, 'Maths': 82, 'CSE': 68, 'EE': 54}\n",
      "{'English': 62, 'Hindi': 77, 'Maths': 79, 'CSE': 60, 'EE': 59}\n",
      "{'English': 96, 'Hindi': 50, 'Maths': 73, 'CSE': 82, 'EE': 58}\n",
      "Max Average= 35.4 Min Average= 22.6\n",
      "Max Average Student= student 3 Min Average Student= student 4\n"
     ]
    }
   ],
   "source": [
    "import random  \n",
    "students={}\n",
    "maxNum=0\n",
    "maxNumStudent=\"\"\n",
    "minNum=1000\n",
    "minNumStudent=\"\"\n",
    "for i in range(10):\n",
    "    marks={\"English\":random.randint(50,100),\"Hindi\":random.randint(50,100),\n",
    "           \"Maths\":random.randint(50,100),\"CSE\":random.randint(50,100),\n",
    "           \"EE\":random.randint(50,100)}\n",
    "    students[\"student \"+str(i+1)]=marks\n",
    "\n",
    "for student in students:\n",
    "    sumOfMarks=students[student]['English']+students[student]['Hindi']\n",
    "    +students[student]['Maths']+students[student]['CSE']+students[student]['EE']\n",
    "    averageMarksOfStudent=sumOfMarks/5\n",
    "#     print(\"averageMarksOfStudent:\",averageMarksOfStudent)\n",
    "    if(averageMarksOfStudent>=maxNum):\n",
    "        maxNum=averageMarksOfStudent\n",
    "        maxNumStudent=student\n",
    "#         print(\"Max=\",maxNum,\"maxNumStudent=\",maxNumStudent)\n",
    "    if(averageMarksOfStudent<=minNum):\n",
    "        minNum=averageMarksOfStudent\n",
    "        minNumStudent=student\n",
    "#         print(\"Min=\",minNum,\"minNumStudent=\",minNumStudent)\n",
    "for student in students:\n",
    "    print(students[student])\n",
    "print(\"Max Average=\",maxNum,\"Min Average=\",minNum)\n",
    "print(\"Max Average Student=\",maxNumStudent,\"Min Average Student=\",minNumStudent)\n"
   ]
  },
  {
   "cell_type": "markdown",
   "id": "3cb42c2e",
   "metadata": {},
   "source": [
    "#### Q13. WAP to sort the following number of elements in a list and calculate time taken.\n",
    "\n",
    "| Number of elements in list | Time Taken to sort |\n",
    "| --- | ----------- |\n",
    "| 5k | T1 |\n",
    "| 10k | T2 |\n",
    "| 15k | T3 |\n",
    "| 20k | T4 |\n",
    "| 25k | T5 |\n"
   ]
  },
  {
   "cell_type": "code",
   "execution_count": 45,
   "id": "d7ff260d",
   "metadata": {},
   "outputs": [
    {
     "name": "stdout",
     "output_type": "stream",
     "text": [
      "5k sort time 0.0005657672882080078\n",
      "10k sort time 0.0010900497436523438\n",
      "15k sort time 0.002070903778076172\n",
      "20k sort time 0.0022361278533935547\n",
      "25k sort time 0.003155946731567383\n"
     ]
    }
   ],
   "source": [
    "listOf5k=[]\n",
    "listOf10k=[]\n",
    "listOf15k=[]\n",
    "listOf20k=[]\n",
    "listOf25k=[]\n",
    "for i in range(5000):\n",
    "    listOf5k.append(random.randint(0,1000))\n",
    "for i in range(10000):\n",
    "    listOf10k.append(random.randint(0,1000))\n",
    "for i in range(15000):\n",
    "    listOf15k.append(random.randint(0,1000))\n",
    "for i in range(20000):\n",
    "    listOf20k.append(random.randint(0,1000))\n",
    "for i in range(25000):\n",
    "    listOf25k.append(random.randint(0,1000))\n",
    "begin = time.time()\n",
    "listOf5k.sort()\n",
    "end = time.time()\n",
    "print(\"5k sort time\",end-begin)\n",
    "begin = time.time()\n",
    "listOf10k.sort()\n",
    "end = time.time()\n",
    "print(\"10k sort time\",end-begin)\n",
    "begin = time.time()\n",
    "listOf15k.sort()\n",
    "end = time.time()\n",
    "print(\"15k sort time\",end-begin)\n",
    "begin = time.time()\n",
    "listOf20k.sort()\n",
    "end = time.time()\n",
    "print(\"20k sort time\",end-begin)\n",
    "begin = time.time()\n",
    "listOf25k.sort()\n",
    "end = time.time()\n",
    "print(\"25k sort time\",end-begin)"
   ]
  }
 ],
 "metadata": {
  "kernelspec": {
   "display_name": "Python 3 (ipykernel)",
   "language": "python",
   "name": "python3"
  },
  "language_info": {
   "codemirror_mode": {
    "name": "ipython",
    "version": 3
   },
   "file_extension": ".py",
   "mimetype": "text/x-python",
   "name": "python",
   "nbconvert_exporter": "python",
   "pygments_lexer": "ipython3",
   "version": "3.9.12"
  }
 },
 "nbformat": 4,
 "nbformat_minor": 5
}
