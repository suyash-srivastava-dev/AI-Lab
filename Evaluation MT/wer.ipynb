{
 "cells": [
  {
   "cell_type": "code",
   "execution_count": null,
   "metadata": {},
   "outputs": [],
   "source": []
  },
  {
   "cell_type": "markdown",
   "metadata": {},
   "source": [
    "## WER score calculaltion"
   ]
  },
  {
   "cell_type": "markdown",
   "metadata": {},
   "source": []
  },
  {
   "cell_type": "code",
   "execution_count": 4,
   "metadata": {},
   "outputs": [
    {
     "name": "stdout",
     "output_type": "stream",
     "text": [
      "0.625\n"
     ]
    }
   ],
   "source": [
    "\n",
    "from jiwer import wer\n",
    "\n",
    "ground_truth = \"अपने अनुप्रयोग को पहुंचनीयता व्यायाम का लाभ दें\"\n",
    "hypothesis = \"अपने एप्लिकेशन को एक्सेसिबिलिटी वर्कआउट दें\"\n",
    "\n",
    "error = wer(ground_truth, hypothesis)\n",
    "print(error)\n"
   ]
  },
  {
   "cell_type": "code",
   "execution_count": null,
   "metadata": {},
   "outputs": [],
   "source": [
    "# Sentence WER\n",
    "\n",
    "# WER for segment by segment with arguments\n",
    "# Run this file from CMD/Terminal\n",
    "# Example Command: python3 sentence-wer.py test_file_name.txt mt_file_name.txt\n",
    "\n",
    "import sys\n",
    "from jiwer import wer\n",
    "\n",
    "\n",
    "target_test = sys.argv[1]\t#  Test file argument\n",
    "target_pred = sys.argv[2]\t#  MTed file argument\n",
    "\n",
    "\n",
    "# Open the test dataset human translation file\n",
    "with open(target_test) as test:\n",
    "    refs = test.readlines()\n",
    "\n",
    "#print(\"Reference 1st sentence:\", refs[0])\n",
    "\n",
    "# Open the translation file by the NMT model\n",
    "with open(target_pred) as pred:\n",
    "    preds = pred.readlines()\n",
    "\n",
    "wer_file = \"wer-\" + target_pred + \".txt\"\n",
    "\n",
    "# Calculate WER for sentence by sentence and save the result to a file\n",
    "with open(wer_file, \"w+\") as output:\n",
    "    for line in zip(refs, preds):\n",
    "        test = line[0]\n",
    "        pred = line[1]\n",
    "        #print(test, pred)\n",
    "\n",
    "        wer_score = wer(test, pred, standardize=True)  # \"standardize\" expands abbreviations\n",
    "        #print(wer_score, \"\\n\")\n",
    "        output.write(str(wer_score) + \"\\n\")\n",
    "\n",
    "print(\"Done! Please check the WER file '\" + wer_file + \"' in the same folder!\")"
   ]
  }
 ],
 "metadata": {
  "kernelspec": {
   "display_name": "Python 3.9.12 ('base')",
   "language": "python",
   "name": "python3"
  },
  "language_info": {
   "codemirror_mode": {
    "name": "ipython",
    "version": 3
   },
   "file_extension": ".py",
   "mimetype": "text/x-python",
   "name": "python",
   "nbconvert_exporter": "python",
   "pygments_lexer": "ipython3",
   "version": "3.9.12"
  },
  "orig_nbformat": 4,
  "vscode": {
   "interpreter": {
    "hash": "caf1c2fcf97217de91eafa76b907d50f9ea378f5ffbee7f571142d119bb6a771"
   }
  }
 },
 "nbformat": 4,
 "nbformat_minor": 2
}
