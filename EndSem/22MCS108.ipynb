{
 "cells": [
  {
   "cell_type": "markdown",
   "id": "f8425e41",
   "metadata": {},
   "source": [
    "# A* Algorithm implementation"
   ]
  },
  {
   "cell_type": "markdown",
   "id": "58eb6cbc",
   "metadata": {},
   "source": [
    "#### f(n)=g(n)+h(n)\n",
    "\n",
    "**input:** \n",
    "\n",
    "nodes with adj matrix(path and length) and heuristic values\n",
    "\n",
    "**output:**\n",
    "\n",
    "we get the cost, and the path based on current cost + heuristic value"
   ]
  },
  {
   "cell_type": "markdown",
   "id": "5512a674",
   "metadata": {},
   "source": [
    "1. aStarSearchUtil:\n",
    "    - check if we are at goal node\n",
    "    - else we mark the v node as visited and append it in path\n",
    "    - if v is the destination node then we set the value as 1 to stop the recursive call\n",
    "    - else get the priority queue and its size\n",
    "    - iterate for elements in priority queue\n",
    "    - if dest not the queue will call the Util function again\n",
    "    \n",
    "    \n",
    "\n"
   ]
  },
  {
   "cell_type": "code",
   "execution_count": 1,
   "id": "0ddfc9d5",
   "metadata": {},
   "outputs": [],
   "source": [
    "#aStarUtil called by aStar for the iterating through the connected nodes\n",
    "def aStarSearchUtil(G, v, visited, final_path, dest, goal):\n",
    "    if goal == 1:\n",
    "        return goal\n",
    "    visited[v] = True\n",
    "    final_path.append(v)\n",
    "    if v == dest:\n",
    "        goal = 1\n",
    "    else:\n",
    "        pq_list = []\n",
    "        pq,size = getPriorityQueue(G, v)\n",
    "        for i in range(size):\n",
    "            pq_list.append(pq.get().description)\n",
    "        for i in pq_list:\n",
    "            if goal != 1:\n",
    "                \n",
    "                if visited[i] == False :\n",
    "                    goal = aStarSearchUtil(G, i, visited, final_path, dest, goal)\n",
    "    return goal\n",
    "\n",
    "   "
   ]
  },
  {
   "cell_type": "code",
   "execution_count": 2,
   "id": "fe796d39",
   "metadata": {},
   "outputs": [],
   "source": [
    "#Creates priority queue , based on heuristic value\n",
    "def getPriorityQueue(G, v):\n",
    "    q = Q.PriorityQueue()\n",
    "    for node in G[v]:\n",
    "        q.put(Ordered_Node(float(heuristics[node])+float(G[node][v]['length']),node))\n",
    "    return q,len(G[v])\n",
    "\n"
   ]
  },
  {
   "cell_type": "markdown",
   "id": "b46b06bf",
   "metadata": {},
   "source": [
    "2. aStarSearch:\n",
    "    - get the visited set\n",
    "    - for each node in the graph set visited as False\n",
    "    - the final path for the traversal in stored in the array: final_path\n",
    "    - goal calls util function that iterates and recurvisely call itself for the traversal\n",
    "    - from the final path array we draw the traversal graph\n",
    "    "
   ]
  },
  {
   "cell_type": "code",
   "execution_count": 11,
   "id": "046fd4ae",
   "metadata": {},
   "outputs": [],
   "source": [
    "import networkx as nx\n",
    "def aStarSearch(G, source, dest, heuristics, pos): \n",
    "    visited = {}\n",
    "    for node in G.nodes():\n",
    "        visited[node] = False\n",
    "    final_path = []\n",
    "    goal = aStarSearchUtil(G, source, visited, final_path, dest, 0)\n",
    "    prev = -1\n",
    "    print(final_path)\n",
    "    for var in final_path:\n",
    "        if prev != -1:\n",
    "            curr = var\n",
    "            nx.draw_networkx_edges(G, pos, edgelist = [(prev,curr)], width = 3, edge_color = 'green')\n",
    "            prev = curr\n",
    "        else:\n",
    "            prev = var\n",
    "    return"
   ]
  },
  {
   "cell_type": "code",
   "execution_count": 12,
   "id": "b09087d9",
   "metadata": {},
   "outputs": [],
   "source": [
    "import queue as Q\n",
    "# based on the priority order the node\n",
    "\n",
    "class Ordered_Node(object):\n",
    "    def __init__(self, priority, description):\n",
    "        self.priority = priority\n",
    "        self.description = description\n",
    "        return\n",
    "    def __lt__(self, other):\n",
    "        return self.priority < other.priority"
   ]
  },
  {
   "cell_type": "markdown",
   "id": "a1c7ed32",
   "metadata": {},
   "source": [
    "3. Heuristic file:\n",
    "    - from the heuristic file get the set of heuristic location name and their respective heuristic values\n",
    "    \n",
    "{'A': '366', 'B': '0', 'C': '160', 'D': '242', 'E': '161', 'F': '178', 'G': '77', 'H': '151', 'I': '226', 'L': '244', 'M': '241', 'N': '234', 'O': '380', 'P': '98', 'R': '193', 'S': '253', 'T': '329', 'U': '80', 'V': '199', 'Z': '374'}"
   ]
  },
  {
   "cell_type": "code",
   "execution_count": 18,
   "id": "a471be16",
   "metadata": {},
   "outputs": [],
   "source": [
    "#get the heuristic values from the text file\n",
    "def getHeuristics(G):\n",
    "    heuristics = {}\n",
    "    f = open('heuristic.txt')\n",
    "    for i in G.nodes():\n",
    "        node_heuristic_val = f.readline().split()\n",
    "        heuristics[node_heuristic_val[0]] = node_heuristic_val[1]\n",
    "#     print(heuristics)\n",
    "    return heuristics"
   ]
  },
  {
   "cell_type": "markdown",
   "id": "dffaab6f",
   "metadata": {},
   "source": [
    "4. CreateGraph:\n",
    "    - networkx used for graph node creation\n",
    "    - read input file\n",
    "    - n is number of lines in the input file\n",
    "    - create edge between the given node names with their respective lengths\n"
   ]
  },
  {
   "cell_type": "code",
   "execution_count": 6,
   "id": "bbceeed4",
   "metadata": {},
   "outputs": [],
   "source": [
    "def CreateGraph():\n",
    "    G = nx.Graph()\n",
    "    f = open('inputNodes.txt')\n",
    "    n = int(f.readline())\n",
    "    for i in range(n):\n",
    "        graph_edge_list = f.readline().split()\n",
    "        G.add_edge(graph_edge_list[0], graph_edge_list[1], length = graph_edge_list[2]) \n",
    "    source, dest= f.read().splitlines()\n",
    "    return G, source, dest\n"
   ]
  },
  {
   "cell_type": "markdown",
   "id": "a6585a96",
   "metadata": {},
   "source": [
    "5. DrawPath:\n",
    "    - to draw the graph\n",
    "    - source as green\n",
    "    - target as red\n",
    "    - other nodes blue\n",
    " "
   ]
  },
  {
   "cell_type": "code",
   "execution_count": 14,
   "id": "eedcb9a9",
   "metadata": {},
   "outputs": [],
   "source": [
    "def DrawPath(G, source, dest):\n",
    "    pos = nx.spring_layout(G)\n",
    "    val_map = {}\n",
    "    val_map[source] = 'green'\n",
    "    val_map[dest] = 'red'\n",
    "    values = [val_map.get(node, 'blue') for node in G.nodes()]\n",
    "    nx.draw(G, pos, with_labels = True, node_color = values, edge_color = 'b' ,width = 1)  \n",
    "    edge_labels = dict([((u, v,), d['length']) for u, v, d in G.edges(data = True)])\n",
    "    nx.draw_networkx_edge_labels(G, pos, edge_labels = edge_labels, label_pos = 0.5, font_size = 11) \n",
    "    return pos"
   ]
  },
  {
   "cell_type": "markdown",
   "id": "2a0a662b",
   "metadata": {},
   "source": [
    "6. Main function calls:\n",
    "    - Create graph ( fetch txt file & create graph between the nodes with length)\n",
    "    - Heuristic values of each node are the fetched from other file\n",
    "    - draw the path for the nodes (display the graph, with source,target, other nodes)\n",
    "    - apply aStar algorithm from source to target and mark it with green path"
   ]
  },
  {
   "cell_type": "code",
   "execution_count": 20,
   "id": "0abe6c76",
   "metadata": {
    "scrolled": true
   },
   "outputs": [
    {
     "name": "stdout",
     "output_type": "stream",
     "text": [
      "['A', 'S', 'R', 'P', 'B']\n"
     ]
    },
    {
     "data": {
      "image/png": "[encoded data removed]",
      "text/plain": [
       "<Figure size 432x288 with 1 Axes>"
      ]
     },
     "metadata": {},
     "output_type": "display_data"
    }
   ],
   "source": [
    "G,source,dest = CreateGraph()\n",
    "heuristics = getHeuristics(G)\n",
    "pos = DrawPath(G, source, dest)\n",
    "aStarSearch(G, source, dest, heuristics, pos)\n"
   ]
  },
  {
   "cell_type": "code",
   "execution_count": 26,
   "id": "0d71d1dc",
   "metadata": {},
   "outputs": [
    {
     "name": "stdout",
     "output_type": "stream",
     "text": [
      "False\n"
     ]
    }
   ],
   "source": [
    "def fun(i,k):\n",
    "    return i>k\n",
    "\n",
    "ans=fun(7,8)\n",
    "print(ans)"
   ]
  },
  {
   "cell_type": "code",
   "execution_count": null,
   "id": "b89d8d13",
   "metadata": {},
   "outputs": [],
   "source": []
  }
 ],
 "metadata": {
  "kernelspec": {
   "display_name": "Python 3 (ipykernel)",
   "language": "python",
   "name": "python3"
  },
  "language_info": {
   "codemirror_mode": {
    "name": "ipython",
    "version": 3
   },
   "file_extension": ".py",
   "mimetype": "text/x-python",
   "name": "python",
   "nbconvert_exporter": "python",
   "pygments_lexer": "ipython3",
   "version": "3.9.12"
  }
 },
 "nbformat": 4,
 "nbformat_minor": 5
}
