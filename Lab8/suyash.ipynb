{
 "cells": [
  {
   "cell_type": "markdown",
   "metadata": {},
   "source": [
    "1. Implement DFS and BFS in a graph, print the path till the target node\n",
    "2. Implement DFS and BFS for disconected graph\n",
    "3. Implement hill climbing for travelling salesman problem"
   ]
  },
  {
   "cell_type": "code",
   "execution_count": 54,
   "metadata": {},
   "outputs": [
    {
     "name": "stdout",
     "output_type": "stream",
     "text": [
      "BFS\n",
      "2\n",
      "0\n",
      "3\n",
      "1\n"
     ]
    }
   ],
   "source": [
    "import numpy as np\n",
    "listOfVisitedNodes=[]\n",
    "arr = np.array([[0,1,1,0],[0,0,1,0],[1,0,0,1],[0,0,0,1]])\n",
    "start=2\n",
    "index=int(arr.size/2)\n",
    "listOfVisitedNodes.append(start)\n",
    "\n",
    "                    \n",
    "for i in listOfVisitedNodes:\n",
    "    for j in range(4):\n",
    "        if(arr[i][j]==1 and listOfVisitedNodes.count(j)==0):\n",
    "            listOfVisitedNodes.append(j)\n",
    "\n",
    "print(\"BFS\")\n",
    "for i in listOfVisitedNodes:\n",
    "    print(i)\n"
   ]
  },
  {
   "cell_type": "code",
   "execution_count": 55,
   "metadata": {},
   "outputs": [
    {
     "name": "stdout",
     "output_type": "stream",
     "text": [
      "DFS\n",
      "2\n",
      "3\n",
      "0\n",
      "1\n"
     ]
    }
   ],
   "source": [
    "listOfVisitedNodes=[]\n",
    "arr = np.array([[0,1,1,0],[0,0,1,0],[1,0,0,1],[0,0,0,1]])\n",
    "start=2\n",
    "index=int(arr.size/2)\n",
    "listOfVisitedNodes.append(start)\n",
    "visited = [False] * 5\n",
    "visited[start]=True\n",
    "print(\"DFS\")\n",
    "# print(visited)\n",
    "while listOfVisitedNodes: \n",
    "    t=len(listOfVisitedNodes)\n",
    "    # print(\"t=\",t) \n",
    "    index=listOfVisitedNodes[t-1]\n",
    "    print(listOfVisitedNodes[t-1])\n",
    "    element=listOfVisitedNodes.pop(t-1)\n",
    "    for j in range(4):\n",
    "        if(arr[index][j]==1 and listOfVisitedNodes.count(j)==0 and visited[j]!=True):\n",
    "            listOfVisitedNodes.append(j)\n",
    "            visited[j]=True\n"
   ]
  },
  {
   "cell_type": "code",
   "execution_count": 76,
   "metadata": {},
   "outputs": [
    {
     "name": "stdout",
     "output_type": "stream",
     "text": [
      "BFS\n",
      "2\n",
      "0\n",
      "1\n",
      "3\n"
     ]
    }
   ],
   "source": [
    "import numpy as np\n",
    "listOfVisitedNodes=[]\n",
    "arr = np.array([[0,0,1,0],[0,0,0,1],[1,0,0,0],[0,1,0,1]])\n",
    "start=2\n",
    "index=int(arr.size/2)\n",
    "listOfVisitedNodes.append(start)\n",
    "visited = [False] * 4\n",
    "visited[start]=True\n",
    "\n",
    "while(visited.count(False)!=0):\n",
    "    for i in listOfVisitedNodes:\n",
    "        for j in range(4):\n",
    "            if(arr[i][j]==1 and listOfVisitedNodes.count(j)==0):\n",
    "                listOfVisitedNodes.append(j)\n",
    "                visited[j]=True\n",
    "    index=0\n",
    "    for i in visited:  # type: ignore\n",
    "        # print(i,index)\n",
    "        if(i!=True):\n",
    "            listOfVisitedNodes.append(index)\n",
    "            visited[index]=True\n",
    "            # print(\"added=\",index)\n",
    "            break\n",
    "        index=index+1\n",
    "\n",
    "\n",
    "print(\"BFS\")\n",
    "for i in listOfVisitedNodes:\n",
    "    print(i)"
   ]
  },
  {
   "cell_type": "code",
   "execution_count": 77,
   "metadata": {},
   "outputs": [
    {
     "name": "stdout",
     "output_type": "stream",
     "text": [
      "DFS\n",
      "2\n",
      "0\n",
      "1\n",
      "3\n"
     ]
    }
   ],
   "source": [
    "listOfVisitedNodes=[]\n",
    "arr = np.array([[0,0,1,0],[0,0,0,1],[1,0,0,0],[0,1,0,1]])\n",
    "\n",
    "start=2\n",
    "index=int(arr.size/2)\n",
    "listOfVisitedNodes.append(start)\n",
    "visited = [False] * 4\n",
    "visited[start]=True\n",
    "print(\"DFS\")\n",
    "# print(visited)\n",
    "\n",
    "while(visited.count(False)!=0):\n",
    "    while listOfVisitedNodes: \n",
    "        t=len(listOfVisitedNodes)\n",
    "        # print(\"t=\",t) \n",
    "        index=listOfVisitedNodes[t-1]\n",
    "        print(listOfVisitedNodes[t-1])\n",
    "        element=listOfVisitedNodes.pop(t-1)\n",
    "        for j in range(4):\n",
    "            if(arr[index][j]==1 and listOfVisitedNodes.count(j)==0 and visited[j]!=True):\n",
    "                listOfVisitedNodes.append(j)\n",
    "                visited[j]=True\n",
    "    index=0\n",
    "    for i in visited:  # type: ignore\n",
    "        # print(i,index)\n",
    "        if(i!=True):\n",
    "            listOfVisitedNodes.append(index)\n",
    "            visited[index]=True\n",
    "            # print(\"added=\",index)\n",
    "            break\n",
    "        index=index+1"
   ]
  },
  {
   "cell_type": "code",
   "execution_count": 60,
   "metadata": {},
   "outputs": [
    {
     "name": "stdout",
     "output_type": "stream",
     "text": [
      "The solution is \n",
      " [5, 0, 6, 9, 10, 14, 8, 1, 11, 2, 13, 12, 4, 3, 7] \n",
      "The path length is \n",
      " 283.8355158499078\n"
     ]
    },
    {
     "data": {
      "image/png": "[encoded data removed]",
      "text/plain": [
       "<Figure size 432x288 with 1 Axes>"
      ]
     },
     "metadata": {},
     "output_type": "display_data"
    }
   ],
   "source": [
    "\n",
    "import random\n",
    "import numpy as np\n",
    "import networkx as nx\n",
    "\n",
    "#coordinate of the points/cities\n",
    "coordinate = np.array([[1,2], [30,21], [56,23], [8,18], [20,50], [3,4], [11,6], [6,7], \n",
    "                       [15,20], [10,9], [12,12], [46,17], [60,55], [100,80], [16,13]])\n",
    "\n",
    "#adjacency matrix for a weighted graph based on the given coordinates\n",
    "def generate_matrix(coordinate):\n",
    "    matrix = []\n",
    "    for i in range(len(coordinate)):\n",
    "        for j in range(len(coordinate)) :       \n",
    "            p = np.linalg.norm(coordinate[i] - coordinate[j])\n",
    "            matrix.append(p)\n",
    "    matrix = np.reshape(matrix, (len(coordinate),len(coordinate)))\n",
    "    #print(matrix)\n",
    "    return matrix\n",
    "\n",
    "#finds a random solution    \n",
    "def solution(matrix):\n",
    "    points = list(range(0, len(matrix)))\n",
    "    solution = []\n",
    "    for i in range(0, len(matrix)):\n",
    "        random_point = points[random.randint(0, len(points) - 1)]\n",
    "        solution.append(random_point)\n",
    "        points.remove(random_point)\n",
    "\n",
    "    return solution\n",
    "\n",
    "\n",
    "#computes the path based on the random solution\n",
    "def path_length(matrix, solution):\n",
    "    cycle_length = 0\n",
    "    for i in range(0, len(solution)):\n",
    "        cycle_length += matrix[solution[i]][solution[i - 1]]\n",
    "    return cycle_length\n",
    "\n",
    "#generate neighbors of the random solution by swapping cities and returns the best neighbor\n",
    "def neighbors(matrix, solution):\n",
    "    neighbors = []\n",
    "    for i in range(len(solution)):\n",
    "        for j in range(i + 1, len(solution)):\n",
    "            neighbor = solution.copy()\n",
    "            neighbor[i] = solution[j]\n",
    "            neighbor[j] = solution[i]\n",
    "            neighbors.append(neighbor)\n",
    "            \n",
    "    #assume that the first neighbor in the list is the best neighbor      \n",
    "    best_neighbor = neighbors[0]\n",
    "    best_path = path_length(matrix, best_neighbor)\n",
    "    \n",
    "    #check if there is a better neighbor\n",
    "    for neighbor in neighbors:\n",
    "        current_path = path_length(matrix, neighbor)\n",
    "        if current_path < best_path:\n",
    "            best_path = current_path\n",
    "            best_neighbor = neighbor\n",
    "    return best_neighbor, best_path\n",
    "\n",
    "\n",
    "def hill_climbing(coordinate):\n",
    "    matrix = generate_matrix(coordinate)\n",
    "    \n",
    "    current_solution = solution(matrix)\n",
    "    current_path = path_length(matrix, current_solution)\n",
    "    neighbor = neighbors(matrix,current_solution)[0]\n",
    "    best_neighbor, best_neighbor_path = neighbors(matrix, neighbor)\n",
    "\n",
    "    while best_neighbor_path < current_path:\n",
    "        current_solution = best_neighbor\n",
    "        current_path = best_neighbor_path\n",
    "        neighbor = neighbors(matrix, current_solution)[0]\n",
    "        best_neighbor, best_neighbor_path = neighbors(matrix, neighbor)\n",
    "\n",
    "    return current_path, current_solution\n",
    "\n",
    "\n",
    "def graph(coordinate):\n",
    "    final_solution = hill_climbing(coordinate)\n",
    "    G = nx.DiGraph()\n",
    "    temp = final_solution[1]\n",
    "    G.add_nodes_from(final_solution[1])\n",
    "    \n",
    "    for i in range(1, len(final_solution[1])):\n",
    "        G.add_edge(temp[i - 1], temp[i])\n",
    "    G.add_edge(temp[len(temp) - 1], temp[0])\n",
    "    color_map = []\n",
    "    for node in G:\n",
    "        if node == final_solution[1][0]:\n",
    "            color_map.append('lime')\n",
    "        else: \n",
    "            color_map.append('plum')\n",
    "    nx.draw(G, with_labels = True, node_color = color_map, node_size = 1000)\n",
    "    print(\"The solution is \\n\", final_solution[1], \"\\nThe path length is \\n\", final_solution[0])\n",
    "    return\n",
    "\n",
    "    \n",
    "graph(coordinate)"
   ]
  },
  {
   "cell_type": "code",
   "execution_count": null,
   "metadata": {},
   "outputs": [],
   "source": []
  }
 ],
 "metadata": {
  "kernelspec": {
   "display_name": "Python 3.9.12 ('base')",
   "language": "python",
   "name": "python3"
  },
  "language_info": {
   "codemirror_mode": {
    "name": "ipython",
    "version": 3
   },
   "file_extension": ".py",
   "mimetype": "text/x-python",
   "name": "python",
   "nbconvert_exporter": "python",
   "pygments_lexer": "ipython3",
   "version": "3.9.12"
  },
  "orig_nbformat": 4,
  "vscode": {
   "interpreter": {
    "hash": "caf1c2fcf97217de91eafa76b907d50f9ea378f5ffbee7f571142d119bb6a771"
   }
  }
 },
 "nbformat": 4,
 "nbformat_minor": 2
}
