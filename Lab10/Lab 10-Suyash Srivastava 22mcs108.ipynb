{
 "cells": [
  {
   "cell_type": "code",
   "execution_count": 1,
   "metadata": {},
   "outputs": [
    {
     "data": {
      "text/html": [
       "<div>\n",
       "<style scoped>\n",
       "    .dataframe tbody tr th:only-of-type {\n",
       "        vertical-align: middle;\n",
       "    }\n",
       "\n",
       "    .dataframe tbody tr th {\n",
       "        vertical-align: top;\n",
       "    }\n",
       "\n",
       "    .dataframe thead th {\n",
       "        text-align: right;\n",
       "    }\n",
       "</style>\n",
       "<table border=\"1\" class=\"dataframe\">\n",
       "  <thead>\n",
       "    <tr style=\"text-align: right;\">\n",
       "      <th></th>\n",
       "      <th>S.no</th>\n",
       "      <th>Gender</th>\n",
       "      <th>Sugar_Level</th>\n",
       "      <th>Blood_component_A</th>\n",
       "      <th>Blood_component_B</th>\n",
       "      <th>Blood_component_C</th>\n",
       "      <th>Height</th>\n",
       "      <th>Blood_component_D</th>\n",
       "    </tr>\n",
       "  </thead>\n",
       "  <tbody>\n",
       "    <tr>\n",
       "      <th>0</th>\n",
       "      <td>0</td>\n",
       "      <td>Male</td>\n",
       "      <td>150</td>\n",
       "      <td>6.987503</td>\n",
       "      <td>3.125571</td>\n",
       "      <td>8.515168</td>\n",
       "      <td>190</td>\n",
       "      <td>-10.179726</td>\n",
       "    </tr>\n",
       "    <tr>\n",
       "      <th>1</th>\n",
       "      <td>1</td>\n",
       "      <td>Male</td>\n",
       "      <td>150</td>\n",
       "      <td>-2.400811</td>\n",
       "      <td>5.886076</td>\n",
       "      <td>1.445175</td>\n",
       "      <td>190</td>\n",
       "      <td>9.303857</td>\n",
       "    </tr>\n",
       "    <tr>\n",
       "      <th>2</th>\n",
       "      <td>2</td>\n",
       "      <td>Male</td>\n",
       "      <td>150</td>\n",
       "      <td>7.225148</td>\n",
       "      <td>6.240692</td>\n",
       "      <td>8.707427</td>\n",
       "      <td>190</td>\n",
       "      <td>-10.026728</td>\n",
       "    </tr>\n",
       "    <tr>\n",
       "      <th>3</th>\n",
       "      <td>3</td>\n",
       "      <td>Male</td>\n",
       "      <td>150</td>\n",
       "      <td>4.653442</td>\n",
       "      <td>1.291124</td>\n",
       "      <td>-0.540128</td>\n",
       "      <td>190</td>\n",
       "      <td>1.554792</td>\n",
       "    </tr>\n",
       "    <tr>\n",
       "      <th>4</th>\n",
       "      <td>4</td>\n",
       "      <td>Male</td>\n",
       "      <td>150</td>\n",
       "      <td>6.383007</td>\n",
       "      <td>6.388507</td>\n",
       "      <td>7.101920</td>\n",
       "      <td>190</td>\n",
       "      <td>-10.369927</td>\n",
       "    </tr>\n",
       "  </tbody>\n",
       "</table>\n",
       "</div>"
      ],
      "text/plain": [
       "   S.no Gender  Sugar_Level  Blood_component_A  Blood_component_B  \\\n",
       "0     0   Male          150           6.987503           3.125571   \n",
       "1     1   Male          150          -2.400811           5.886076   \n",
       "2     2   Male          150           7.225148           6.240692   \n",
       "3     3   Male          150           4.653442           1.291124   \n",
       "4     4   Male          150           6.383007           6.388507   \n",
       "\n",
       "   Blood_component_C  Height  Blood_component_D  \n",
       "0           8.515168     190         -10.179726  \n",
       "1           1.445175     190           9.303857  \n",
       "2           8.707427     190         -10.026728  \n",
       "3          -0.540128     190           1.554792  \n",
       "4           7.101920     190         -10.369927  "
      ]
     },
     "execution_count": 1,
     "metadata": {},
     "output_type": "execute_result"
    }
   ],
   "source": [
    "import pandas as pd\n",
    "dataSet=pd.read_csv(\"file.csv\")\n",
    "dataSet.head()"
   ]
  },
  {
   "cell_type": "code",
   "execution_count": 2,
   "metadata": {},
   "outputs": [
    {
     "data": {
      "text/html": [
       "<div>\n",
       "<style scoped>\n",
       "    .dataframe tbody tr th:only-of-type {\n",
       "        vertical-align: middle;\n",
       "    }\n",
       "\n",
       "    .dataframe tbody tr th {\n",
       "        vertical-align: top;\n",
       "    }\n",
       "\n",
       "    .dataframe thead th {\n",
       "        text-align: right;\n",
       "    }\n",
       "</style>\n",
       "<table border=\"1\" class=\"dataframe\">\n",
       "  <thead>\n",
       "    <tr style=\"text-align: right;\">\n",
       "      <th></th>\n",
       "      <th>S.no</th>\n",
       "      <th>Sugar_Level</th>\n",
       "      <th>Blood_component_A</th>\n",
       "      <th>Blood_component_B</th>\n",
       "      <th>Blood_component_C</th>\n",
       "      <th>Height</th>\n",
       "      <th>Blood_component_D</th>\n",
       "    </tr>\n",
       "  </thead>\n",
       "  <tbody>\n",
       "    <tr>\n",
       "      <th>count</th>\n",
       "      <td>500.000000</td>\n",
       "      <td>500.000000</td>\n",
       "      <td>498.000000</td>\n",
       "      <td>499.000000</td>\n",
       "      <td>499.000000</td>\n",
       "      <td>500.000000</td>\n",
       "      <td>499.000000</td>\n",
       "    </tr>\n",
       "    <tr>\n",
       "      <th>mean</th>\n",
       "      <td>249.500000</td>\n",
       "      <td>165.000000</td>\n",
       "      <td>3.977813</td>\n",
       "      <td>0.694077</td>\n",
       "      <td>1.713523</td>\n",
       "      <td>187.500000</td>\n",
       "      <td>0.087345</td>\n",
       "    </tr>\n",
       "    <tr>\n",
       "      <th>std</th>\n",
       "      <td>144.481833</td>\n",
       "      <td>15.187538</td>\n",
       "      <td>3.853424</td>\n",
       "      <td>5.475359</td>\n",
       "      <td>5.903355</td>\n",
       "      <td>2.502504</td>\n",
       "      <td>6.160326</td>\n",
       "    </tr>\n",
       "    <tr>\n",
       "      <th>min</th>\n",
       "      <td>0.000000</td>\n",
       "      <td>150.000000</td>\n",
       "      <td>-4.378493</td>\n",
       "      <td>-11.573892</td>\n",
       "      <td>-10.798653</td>\n",
       "      <td>185.000000</td>\n",
       "      <td>-11.774564</td>\n",
       "    </tr>\n",
       "    <tr>\n",
       "      <th>25%</th>\n",
       "      <td>124.750000</td>\n",
       "      <td>150.000000</td>\n",
       "      <td>2.208710</td>\n",
       "      <td>-1.917297</td>\n",
       "      <td>-0.322908</td>\n",
       "      <td>185.000000</td>\n",
       "      <td>-2.301070</td>\n",
       "    </tr>\n",
       "    <tr>\n",
       "      <th>50%</th>\n",
       "      <td>249.500000</td>\n",
       "      <td>170.000000</td>\n",
       "      <td>4.224831</td>\n",
       "      <td>1.864614</td>\n",
       "      <td>1.546781</td>\n",
       "      <td>187.500000</td>\n",
       "      <td>0.377616</td>\n",
       "    </tr>\n",
       "    <tr>\n",
       "      <th>75%</th>\n",
       "      <td>374.250000</td>\n",
       "      <td>170.000000</td>\n",
       "      <td>7.134335</td>\n",
       "      <td>5.518658</td>\n",
       "      <td>7.146152</td>\n",
       "      <td>190.000000</td>\n",
       "      <td>2.331125</td>\n",
       "    </tr>\n",
       "    <tr>\n",
       "      <th>max</th>\n",
       "      <td>499.000000</td>\n",
       "      <td>190.000000</td>\n",
       "      <td>10.802400</td>\n",
       "      <td>9.005476</td>\n",
       "      <td>9.856504</td>\n",
       "      <td>190.000000</td>\n",
       "      <td>11.178319</td>\n",
       "    </tr>\n",
       "  </tbody>\n",
       "</table>\n",
       "</div>"
      ],
      "text/plain": [
       "             S.no  Sugar_Level  Blood_component_A  Blood_component_B  \\\n",
       "count  500.000000   500.000000         498.000000         499.000000   \n",
       "mean   249.500000   165.000000           3.977813           0.694077   \n",
       "std    144.481833    15.187538           3.853424           5.475359   \n",
       "min      0.000000   150.000000          -4.378493         -11.573892   \n",
       "25%    124.750000   150.000000           2.208710          -1.917297   \n",
       "50%    249.500000   170.000000           4.224831           1.864614   \n",
       "75%    374.250000   170.000000           7.134335           5.518658   \n",
       "max    499.000000   190.000000          10.802400           9.005476   \n",
       "\n",
       "       Blood_component_C      Height  Blood_component_D  \n",
       "count         499.000000  500.000000         499.000000  \n",
       "mean            1.713523  187.500000           0.087345  \n",
       "std             5.903355    2.502504           6.160326  \n",
       "min           -10.798653  185.000000         -11.774564  \n",
       "25%            -0.322908  185.000000          -2.301070  \n",
       "50%             1.546781  187.500000           0.377616  \n",
       "75%             7.146152  190.000000           2.331125  \n",
       "max             9.856504  190.000000          11.178319  "
      ]
     },
     "execution_count": 2,
     "metadata": {},
     "output_type": "execute_result"
    }
   ],
   "source": [
    "dataSet.describe()"
   ]
  },
  {
   "cell_type": "markdown",
   "metadata": {},
   "source": [
    "Checking for null values"
   ]
  },
  {
   "cell_type": "code",
   "execution_count": 3,
   "metadata": {},
   "outputs": [
    {
     "data": {
      "text/plain": [
       "S.no                 0\n",
       "Gender               0\n",
       "Sugar_Level          0\n",
       "Blood_component_A    2\n",
       "Blood_component_B    1\n",
       "Blood_component_C    1\n",
       "Height               0\n",
       "Blood_component_D    1\n",
       "dtype: int64"
      ]
     },
     "execution_count": 3,
     "metadata": {},
     "output_type": "execute_result"
    }
   ],
   "source": [
    "dataSet.isna().sum()"
   ]
  },
  {
   "cell_type": "markdown",
   "metadata": {},
   "source": [
    "Since there are null values try to remove them"
   ]
  },
  {
   "cell_type": "code",
   "execution_count": 4,
   "metadata": {},
   "outputs": [],
   "source": [
    "dataSet[\"Blood_component_A\"]=dataSet[\"Blood_component_A\"].fillna(dataSet[\"Blood_component_A\"].median())\n",
    "dataSet[\"Blood_component_B\"]=dataSet[\"Blood_component_B\"].fillna(dataSet[\"Blood_component_B\"].median())\n",
    "dataSet[\"Blood_component_C\"]=dataSet[\"Blood_component_C\"].fillna(dataSet[\"Blood_component_C\"].median())\n",
    "dataSet[\"Blood_component_D\"]=dataSet[\"Blood_component_D\"].fillna(dataSet[\"Blood_component_D\"].median())"
   ]
  },
  {
   "cell_type": "code",
   "execution_count": 5,
   "metadata": {},
   "outputs": [
    {
     "data": {
      "text/plain": [
       "S.no                 0\n",
       "Gender               0\n",
       "Sugar_Level          0\n",
       "Blood_component_A    0\n",
       "Blood_component_B    0\n",
       "Blood_component_C    0\n",
       "Height               0\n",
       "Blood_component_D    0\n",
       "dtype: int64"
      ]
     },
     "execution_count": 5,
     "metadata": {},
     "output_type": "execute_result"
    }
   ],
   "source": [
    "dataSet.isna().sum()\n"
   ]
  },
  {
   "cell_type": "code",
   "execution_count": 6,
   "metadata": {},
   "outputs": [
    {
     "data": {
      "text/html": [
       "<div>\n",
       "<style scoped>\n",
       "    .dataframe tbody tr th:only-of-type {\n",
       "        vertical-align: middle;\n",
       "    }\n",
       "\n",
       "    .dataframe tbody tr th {\n",
       "        vertical-align: top;\n",
       "    }\n",
       "\n",
       "    .dataframe thead th {\n",
       "        text-align: right;\n",
       "    }\n",
       "</style>\n",
       "<table border=\"1\" class=\"dataframe\">\n",
       "  <thead>\n",
       "    <tr style=\"text-align: right;\">\n",
       "      <th></th>\n",
       "      <th>Gender</th>\n",
       "      <th>Blood_component_A</th>\n",
       "      <th>Blood_component_B</th>\n",
       "      <th>Blood_component_C</th>\n",
       "      <th>Blood_component_D</th>\n",
       "    </tr>\n",
       "  </thead>\n",
       "  <tbody>\n",
       "    <tr>\n",
       "      <th>0</th>\n",
       "      <td>1</td>\n",
       "      <td>6.987503</td>\n",
       "      <td>3.125571</td>\n",
       "      <td>8.515168</td>\n",
       "      <td>-10.179726</td>\n",
       "    </tr>\n",
       "    <tr>\n",
       "      <th>1</th>\n",
       "      <td>1</td>\n",
       "      <td>-2.400811</td>\n",
       "      <td>5.886076</td>\n",
       "      <td>1.445175</td>\n",
       "      <td>9.303857</td>\n",
       "    </tr>\n",
       "    <tr>\n",
       "      <th>2</th>\n",
       "      <td>1</td>\n",
       "      <td>7.225148</td>\n",
       "      <td>6.240692</td>\n",
       "      <td>8.707427</td>\n",
       "      <td>-10.026728</td>\n",
       "    </tr>\n",
       "    <tr>\n",
       "      <th>3</th>\n",
       "      <td>1</td>\n",
       "      <td>4.653442</td>\n",
       "      <td>1.291124</td>\n",
       "      <td>-0.540128</td>\n",
       "      <td>1.554792</td>\n",
       "    </tr>\n",
       "    <tr>\n",
       "      <th>4</th>\n",
       "      <td>1</td>\n",
       "      <td>6.383007</td>\n",
       "      <td>6.388507</td>\n",
       "      <td>7.101920</td>\n",
       "      <td>-10.369927</td>\n",
       "    </tr>\n",
       "  </tbody>\n",
       "</table>\n",
       "</div>"
      ],
      "text/plain": [
       "   Gender  Blood_component_A  Blood_component_B  Blood_component_C  \\\n",
       "0       1           6.987503           3.125571           8.515168   \n",
       "1       1          -2.400811           5.886076           1.445175   \n",
       "2       1           7.225148           6.240692           8.707427   \n",
       "3       1           4.653442           1.291124          -0.540128   \n",
       "4       1           6.383007           6.388507           7.101920   \n",
       "\n",
       "   Blood_component_D  \n",
       "0         -10.179726  \n",
       "1           9.303857  \n",
       "2         -10.026728  \n",
       "3           1.554792  \n",
       "4         -10.369927  "
      ]
     },
     "execution_count": 6,
     "metadata": {},
     "output_type": "execute_result"
    }
   ],
   "source": [
    "dataSet.drop([\"S.no\",\"Height\",\"Sugar_Level\"],axis=1,inplace=True)\n",
    "dataSet['Gender']=dataSet['Gender'].replace(\"Male\",1).replace(\"Female\",0)\n",
    "dataSet.head()"
   ]
  },
  {
   "cell_type": "code",
   "execution_count": 9,
   "metadata": {},
   "outputs": [
    {
     "data": {
      "text/plain": [
       "0      1\n",
       "1      1\n",
       "2      1\n",
       "3      1\n",
       "4      1\n",
       "      ..\n",
       "495    0\n",
       "496    0\n",
       "497    0\n",
       "498    0\n",
       "499    0\n",
       "Name: Gender, Length: 500, dtype: int64"
      ]
     },
     "execution_count": 9,
     "metadata": {},
     "output_type": "execute_result"
    }
   ],
   "source": [
    "labels=dataSet[\"Gender\"]\n",
    "labels"
   ]
  },
  {
   "cell_type": "code",
   "execution_count": 10,
   "metadata": {},
   "outputs": [
    {
     "data": {
      "text/html": [
       "<div>\n",
       "<style scoped>\n",
       "    .dataframe tbody tr th:only-of-type {\n",
       "        vertical-align: middle;\n",
       "    }\n",
       "\n",
       "    .dataframe tbody tr th {\n",
       "        vertical-align: top;\n",
       "    }\n",
       "\n",
       "    .dataframe thead th {\n",
       "        text-align: right;\n",
       "    }\n",
       "</style>\n",
       "<table border=\"1\" class=\"dataframe\">\n",
       "  <thead>\n",
       "    <tr style=\"text-align: right;\">\n",
       "      <th></th>\n",
       "      <th>Blood_component_A</th>\n",
       "      <th>Blood_component_B</th>\n",
       "      <th>Blood_component_C</th>\n",
       "      <th>Blood_component_D</th>\n",
       "    </tr>\n",
       "  </thead>\n",
       "  <tbody>\n",
       "    <tr>\n",
       "      <th>0</th>\n",
       "      <td>6.987503</td>\n",
       "      <td>3.125571</td>\n",
       "      <td>8.515168</td>\n",
       "      <td>-10.179726</td>\n",
       "    </tr>\n",
       "    <tr>\n",
       "      <th>1</th>\n",
       "      <td>-2.400811</td>\n",
       "      <td>5.886076</td>\n",
       "      <td>1.445175</td>\n",
       "      <td>9.303857</td>\n",
       "    </tr>\n",
       "    <tr>\n",
       "      <th>2</th>\n",
       "      <td>7.225148</td>\n",
       "      <td>6.240692</td>\n",
       "      <td>8.707427</td>\n",
       "      <td>-10.026728</td>\n",
       "    </tr>\n",
       "    <tr>\n",
       "      <th>3</th>\n",
       "      <td>4.653442</td>\n",
       "      <td>1.291124</td>\n",
       "      <td>-0.540128</td>\n",
       "      <td>1.554792</td>\n",
       "    </tr>\n",
       "    <tr>\n",
       "      <th>4</th>\n",
       "      <td>6.383007</td>\n",
       "      <td>6.388507</td>\n",
       "      <td>7.101920</td>\n",
       "      <td>-10.369927</td>\n",
       "    </tr>\n",
       "  </tbody>\n",
       "</table>\n",
       "</div>"
      ],
      "text/plain": [
       "   Blood_component_A  Blood_component_B  Blood_component_C  Blood_component_D\n",
       "0           6.987503           3.125571           8.515168         -10.179726\n",
       "1          -2.400811           5.886076           1.445175           9.303857\n",
       "2           7.225148           6.240692           8.707427         -10.026728\n",
       "3           4.653442           1.291124          -0.540128           1.554792\n",
       "4           6.383007           6.388507           7.101920         -10.369927"
      ]
     },
     "execution_count": 10,
     "metadata": {},
     "output_type": "execute_result"
    }
   ],
   "source": [
    "dataSet.drop([\"Gender\"],axis=1,inplace=True)\n",
    "dataSet.head()"
   ]
  },
  {
   "cell_type": "code",
   "execution_count": 11,
   "metadata": {},
   "outputs": [],
   "source": [
    "from sklearn.model_selection import train_test_split\n",
    "\n",
    "X_train, X_test, y_train, y_test = train_test_split(dataSet, labels, test_size = 0.30, random_state = 10)"
   ]
  },
  {
   "cell_type": "code",
   "execution_count": 12,
   "metadata": {},
   "outputs": [
    {
     "data": {
      "text/plain": [
       "LogisticRegression(random_state=10)"
      ]
     },
     "execution_count": 12,
     "metadata": {},
     "output_type": "execute_result"
    }
   ],
   "source": [
    "from sklearn.linear_model import LogisticRegression\n",
    "classifier = LogisticRegression(random_state = 10)\n",
    "classifier.fit(X_train, y_train)"
   ]
  },
  {
   "cell_type": "code",
   "execution_count": 13,
   "metadata": {},
   "outputs": [],
   "source": [
    "y_pred = classifier.predict(X_test)"
   ]
  },
  {
   "cell_type": "code",
   "execution_count": 14,
   "metadata": {},
   "outputs": [
    {
     "name": "stdout",
     "output_type": "stream",
     "text": [
      "Confusion Matrix : \n",
      " [[34 41]\n",
      " [39 36]]\n"
     ]
    }
   ],
   "source": [
    "from sklearn.metrics import confusion_matrix\n",
    "cm = confusion_matrix(y_test, y_pred)\n",
    "  \n",
    "print (\"Confusion Matrix : \\n\", cm)"
   ]
  },
  {
   "cell_type": "code",
   "execution_count": 15,
   "metadata": {},
   "outputs": [
    {
     "name": "stdout",
     "output_type": "stream",
     "text": [
      "Accuracy :  0.4666666666666667\n"
     ]
    }
   ],
   "source": [
    "\n",
    "from sklearn.metrics import accuracy_score\n",
    "print (\"Accuracy : \", accuracy_score(y_test, y_pred))"
   ]
  }
 ],
 "metadata": {
  "kernelspec": {
   "display_name": "Python 3.9.12 ('base')",
   "language": "python",
   "name": "python3"
  },
  "language_info": {
   "codemirror_mode": {
    "name": "ipython",
    "version": 3
   },
   "file_extension": ".py",
   "mimetype": "text/x-python",
   "name": "python",
   "nbconvert_exporter": "python",
   "pygments_lexer": "ipython3",
   "version": "3.9.12"
  },
  "orig_nbformat": 4,
  "vscode": {
   "interpreter": {
    "hash": "caf1c2fcf97217de91eafa76b907d50f9ea378f5ffbee7f571142d119bb6a771"
   }
  }
 },
 "nbformat": 4,
 "nbformat_minor": 2
}
