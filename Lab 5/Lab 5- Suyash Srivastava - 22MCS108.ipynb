{
 "cells": [
  {
   "cell_type": "markdown",
   "id": "8afae836",
   "metadata": {},
   "source": [
    "## 1. Data Description: Some new variations of an old disease have come which depends on gender and blood of the patients."
   ]
  },
  {
   "cell_type": "code",
   "execution_count": 122,
   "id": "c5a8c51a",
   "metadata": {},
   "outputs": [
    {
     "data": {
      "text/html": [
       "<div>\n",
       "<style scoped>\n",
       "    .dataframe tbody tr th:only-of-type {\n",
       "        vertical-align: middle;\n",
       "    }\n",
       "\n",
       "    .dataframe tbody tr th {\n",
       "        vertical-align: top;\n",
       "    }\n",
       "\n",
       "    .dataframe thead th {\n",
       "        text-align: right;\n",
       "    }\n",
       "</style>\n",
       "<table border=\"1\" class=\"dataframe\">\n",
       "  <thead>\n",
       "    <tr style=\"text-align: right;\">\n",
       "      <th></th>\n",
       "      <th>S.no</th>\n",
       "      <th>Gender</th>\n",
       "      <th>Sugar_Level</th>\n",
       "      <th>Blood_component_A</th>\n",
       "      <th>Blood_component_B</th>\n",
       "      <th>Blood_component_C</th>\n",
       "      <th>Height</th>\n",
       "      <th>Blood_component_D</th>\n",
       "    </tr>\n",
       "  </thead>\n",
       "  <tbody>\n",
       "    <tr>\n",
       "      <th>0</th>\n",
       "      <td>0</td>\n",
       "      <td>Male</td>\n",
       "      <td>150</td>\n",
       "      <td>6.987503</td>\n",
       "      <td>3.125571</td>\n",
       "      <td>8.515168</td>\n",
       "      <td>190</td>\n",
       "      <td>-10.179726</td>\n",
       "    </tr>\n",
       "    <tr>\n",
       "      <th>1</th>\n",
       "      <td>1</td>\n",
       "      <td>Male</td>\n",
       "      <td>150</td>\n",
       "      <td>-2.400811</td>\n",
       "      <td>5.886076</td>\n",
       "      <td>1.445175</td>\n",
       "      <td>190</td>\n",
       "      <td>9.303857</td>\n",
       "    </tr>\n",
       "    <tr>\n",
       "      <th>2</th>\n",
       "      <td>2</td>\n",
       "      <td>Male</td>\n",
       "      <td>150</td>\n",
       "      <td>7.225148</td>\n",
       "      <td>6.240692</td>\n",
       "      <td>8.707427</td>\n",
       "      <td>190</td>\n",
       "      <td>-10.026728</td>\n",
       "    </tr>\n",
       "    <tr>\n",
       "      <th>3</th>\n",
       "      <td>3</td>\n",
       "      <td>Male</td>\n",
       "      <td>150</td>\n",
       "      <td>4.653442</td>\n",
       "      <td>1.291124</td>\n",
       "      <td>-0.540128</td>\n",
       "      <td>190</td>\n",
       "      <td>1.554792</td>\n",
       "    </tr>\n",
       "    <tr>\n",
       "      <th>4</th>\n",
       "      <td>4</td>\n",
       "      <td>Male</td>\n",
       "      <td>150</td>\n",
       "      <td>6.383007</td>\n",
       "      <td>6.388507</td>\n",
       "      <td>7.101920</td>\n",
       "      <td>190</td>\n",
       "      <td>-10.369927</td>\n",
       "    </tr>\n",
       "  </tbody>\n",
       "</table>\n",
       "</div>"
      ],
      "text/plain": [
       "   S.no Gender  Sugar_Level  Blood_component_A  Blood_component_B  \\\n",
       "0     0   Male          150           6.987503           3.125571   \n",
       "1     1   Male          150          -2.400811           5.886076   \n",
       "2     2   Male          150           7.225148           6.240692   \n",
       "3     3   Male          150           4.653442           1.291124   \n",
       "4     4   Male          150           6.383007           6.388507   \n",
       "\n",
       "   Blood_component_C  Height  Blood_component_D  \n",
       "0           8.515168     190         -10.179726  \n",
       "1           1.445175     190           9.303857  \n",
       "2           8.707427     190         -10.026728  \n",
       "3          -0.540128     190           1.554792  \n",
       "4           7.101920     190         -10.369927  "
      ]
     },
     "execution_count": 122,
     "metadata": {},
     "output_type": "execute_result"
    }
   ],
   "source": [
    "import numpy as np\n",
    "import pandas as pd\n",
    "import matplotlib.pyplot as plt\n",
    "\n",
    "df = pd.read_csv(\"file.csv\")\n",
    "df.head()"
   ]
  },
  {
   "cell_type": "markdown",
   "id": "a170ac7f",
   "metadata": {},
   "source": [
    "## 2. Use data cleaning and transformation on the given dataset."
   ]
  },
  {
   "cell_type": "code",
   "execution_count": 123,
   "id": "92ef7cf7",
   "metadata": {},
   "outputs": [
    {
     "data": {
      "text/plain": [
       "S.no                 0\n",
       "Gender               0\n",
       "Sugar_Level          0\n",
       "Blood_component_A    2\n",
       "Blood_component_B    1\n",
       "Blood_component_C    1\n",
       "Height               0\n",
       "Blood_component_D    1\n",
       "dtype: int64"
      ]
     },
     "execution_count": 123,
     "metadata": {},
     "output_type": "execute_result"
    }
   ],
   "source": [
    "# Checking na in dataset\n",
    "df.isna().sum()"
   ]
  },
  {
   "cell_type": "code",
   "execution_count": 124,
   "id": "5fbeb609",
   "metadata": {},
   "outputs": [],
   "source": [
    "df=df.fillna(0)"
   ]
  },
  {
   "cell_type": "code",
   "execution_count": 125,
   "id": "1a5fa200",
   "metadata": {},
   "outputs": [
    {
     "data": {
      "text/plain": [
       "S.no                 0\n",
       "Gender               0\n",
       "Sugar_Level          0\n",
       "Blood_component_A    0\n",
       "Blood_component_B    0\n",
       "Blood_component_C    0\n",
       "Height               0\n",
       "Blood_component_D    0\n",
       "dtype: int64"
      ]
     },
     "execution_count": 125,
     "metadata": {},
     "output_type": "execute_result"
    }
   ],
   "source": [
    "df.isna().sum()"
   ]
  },
  {
   "cell_type": "code",
   "execution_count": 126,
   "id": "350383b4",
   "metadata": {},
   "outputs": [
    {
     "data": {
      "text/plain": [
       "0"
      ]
     },
     "execution_count": 126,
     "metadata": {},
     "output_type": "execute_result"
    }
   ],
   "source": [
    "# Removing Duplicates\n",
    "df.duplicated().sum()\n"
   ]
  },
  {
   "cell_type": "code",
   "execution_count": 127,
   "id": "92b1381d",
   "metadata": {},
   "outputs": [
    {
     "data": {
      "text/html": [
       "<div>\n",
       "<style scoped>\n",
       "    .dataframe tbody tr th:only-of-type {\n",
       "        vertical-align: middle;\n",
       "    }\n",
       "\n",
       "    .dataframe tbody tr th {\n",
       "        vertical-align: top;\n",
       "    }\n",
       "\n",
       "    .dataframe thead th {\n",
       "        text-align: right;\n",
       "    }\n",
       "</style>\n",
       "<table border=\"1\" class=\"dataframe\">\n",
       "  <thead>\n",
       "    <tr style=\"text-align: right;\">\n",
       "      <th></th>\n",
       "      <th>Gender</th>\n",
       "      <th>Blood_component_A</th>\n",
       "      <th>Blood_component_B</th>\n",
       "      <th>Blood_component_C</th>\n",
       "      <th>Blood_component_D</th>\n",
       "    </tr>\n",
       "  </thead>\n",
       "  <tbody>\n",
       "    <tr>\n",
       "      <th>0</th>\n",
       "      <td>1</td>\n",
       "      <td>6.987503</td>\n",
       "      <td>3.125571</td>\n",
       "      <td>8.515168</td>\n",
       "      <td>-10.179726</td>\n",
       "    </tr>\n",
       "    <tr>\n",
       "      <th>1</th>\n",
       "      <td>1</td>\n",
       "      <td>-2.400811</td>\n",
       "      <td>5.886076</td>\n",
       "      <td>1.445175</td>\n",
       "      <td>9.303857</td>\n",
       "    </tr>\n",
       "    <tr>\n",
       "      <th>2</th>\n",
       "      <td>1</td>\n",
       "      <td>7.225148</td>\n",
       "      <td>6.240692</td>\n",
       "      <td>8.707427</td>\n",
       "      <td>-10.026728</td>\n",
       "    </tr>\n",
       "    <tr>\n",
       "      <th>3</th>\n",
       "      <td>1</td>\n",
       "      <td>4.653442</td>\n",
       "      <td>1.291124</td>\n",
       "      <td>-0.540128</td>\n",
       "      <td>1.554792</td>\n",
       "    </tr>\n",
       "    <tr>\n",
       "      <th>4</th>\n",
       "      <td>1</td>\n",
       "      <td>6.383007</td>\n",
       "      <td>6.388507</td>\n",
       "      <td>7.101920</td>\n",
       "      <td>-10.369927</td>\n",
       "    </tr>\n",
       "  </tbody>\n",
       "</table>\n",
       "</div>"
      ],
      "text/plain": [
       "   Gender  Blood_component_A  Blood_component_B  Blood_component_C  \\\n",
       "0       1           6.987503           3.125571           8.515168   \n",
       "1       1          -2.400811           5.886076           1.445175   \n",
       "2       1           7.225148           6.240692           8.707427   \n",
       "3       1           4.653442           1.291124          -0.540128   \n",
       "4       1           6.383007           6.388507           7.101920   \n",
       "\n",
       "   Blood_component_D  \n",
       "0         -10.179726  \n",
       "1           9.303857  \n",
       "2         -10.026728  \n",
       "3           1.554792  \n",
       "4         -10.369927  "
      ]
     },
     "execution_count": 127,
     "metadata": {},
     "output_type": "execute_result"
    }
   ],
   "source": [
    "# Drop column that's not required\n",
    "df.drop([\"S.no\",\"Height\",\"Sugar_Level\"],axis=1,inplace=True)\n",
    "df['Gender']=df['Gender'].replace(\"Male\",1).replace(\"Female\",0)\n",
    "df.head()\n",
    "# df.tail()"
   ]
  },
  {
   "cell_type": "code",
   "execution_count": 128,
   "id": "eddf5f7f",
   "metadata": {},
   "outputs": [
    {
     "data": {
      "text/html": [
       "<div>\n",
       "<style scoped>\n",
       "    .dataframe tbody tr th:only-of-type {\n",
       "        vertical-align: middle;\n",
       "    }\n",
       "\n",
       "    .dataframe tbody tr th {\n",
       "        vertical-align: top;\n",
       "    }\n",
       "\n",
       "    .dataframe thead th {\n",
       "        text-align: right;\n",
       "    }\n",
       "</style>\n",
       "<table border=\"1\" class=\"dataframe\">\n",
       "  <thead>\n",
       "    <tr style=\"text-align: right;\">\n",
       "      <th></th>\n",
       "      <th>Gender</th>\n",
       "      <th>Blood_component_A</th>\n",
       "      <th>Blood_component_B</th>\n",
       "      <th>Blood_component_C</th>\n",
       "      <th>Blood_component_D</th>\n",
       "    </tr>\n",
       "  </thead>\n",
       "  <tbody>\n",
       "    <tr>\n",
       "      <th>495</th>\n",
       "      <td>0</td>\n",
       "      <td>8.607937</td>\n",
       "      <td>-8.624392</td>\n",
       "      <td>-8.178292</td>\n",
       "      <td>1.212125</td>\n",
       "    </tr>\n",
       "    <tr>\n",
       "      <th>496</th>\n",
       "      <td>0</td>\n",
       "      <td>-2.129690</td>\n",
       "      <td>6.375274</td>\n",
       "      <td>-1.240179</td>\n",
       "      <td>9.501309</td>\n",
       "    </tr>\n",
       "    <tr>\n",
       "      <th>497</th>\n",
       "      <td>0</td>\n",
       "      <td>7.120702</td>\n",
       "      <td>5.675873</td>\n",
       "      <td>8.057511</td>\n",
       "      <td>-7.442512</td>\n",
       "    </tr>\n",
       "    <tr>\n",
       "      <th>498</th>\n",
       "      <td>0</td>\n",
       "      <td>8.266646</td>\n",
       "      <td>6.571732</td>\n",
       "      <td>7.927840</td>\n",
       "      <td>-9.368286</td>\n",
       "    </tr>\n",
       "    <tr>\n",
       "      <th>499</th>\n",
       "      <td>0</td>\n",
       "      <td>6.615513</td>\n",
       "      <td>6.832900</td>\n",
       "      <td>6.690389</td>\n",
       "      <td>-9.565085</td>\n",
       "    </tr>\n",
       "  </tbody>\n",
       "</table>\n",
       "</div>"
      ],
      "text/plain": [
       "     Gender  Blood_component_A  Blood_component_B  Blood_component_C  \\\n",
       "495       0           8.607937          -8.624392          -8.178292   \n",
       "496       0          -2.129690           6.375274          -1.240179   \n",
       "497       0           7.120702           5.675873           8.057511   \n",
       "498       0           8.266646           6.571732           7.927840   \n",
       "499       0           6.615513           6.832900           6.690389   \n",
       "\n",
       "     Blood_component_D  \n",
       "495           1.212125  \n",
       "496           9.501309  \n",
       "497          -7.442512  \n",
       "498          -9.368286  \n",
       "499          -9.565085  "
      ]
     },
     "execution_count": 128,
     "metadata": {},
     "output_type": "execute_result"
    }
   ],
   "source": [
    "df.tail()"
   ]
  },
  {
   "cell_type": "code",
   "execution_count": 129,
   "id": "3b72f250",
   "metadata": {},
   "outputs": [
    {
     "data": {
      "text/html": [
       "<div>\n",
       "<style scoped>\n",
       "    .dataframe tbody tr th:only-of-type {\n",
       "        vertical-align: middle;\n",
       "    }\n",
       "\n",
       "    .dataframe tbody tr th {\n",
       "        vertical-align: top;\n",
       "    }\n",
       "\n",
       "    .dataframe thead th {\n",
       "        text-align: right;\n",
       "    }\n",
       "</style>\n",
       "<table border=\"1\" class=\"dataframe\">\n",
       "  <thead>\n",
       "    <tr style=\"text-align: right;\">\n",
       "      <th></th>\n",
       "      <th>Gender</th>\n",
       "      <th>Blood_component_A</th>\n",
       "      <th>Blood_component_B</th>\n",
       "      <th>Blood_component_C</th>\n",
       "      <th>Blood_component_D</th>\n",
       "    </tr>\n",
       "  </thead>\n",
       "  <tbody>\n",
       "    <tr>\n",
       "      <th>495</th>\n",
       "      <td>0</td>\n",
       "      <td>0.855446</td>\n",
       "      <td>0.143323</td>\n",
       "      <td>0.126862</td>\n",
       "      <td>0.565798</td>\n",
       "    </tr>\n",
       "    <tr>\n",
       "      <th>496</th>\n",
       "      <td>0</td>\n",
       "      <td>0.148134</td>\n",
       "      <td>0.872192</td>\n",
       "      <td>0.462765</td>\n",
       "      <td>0.926937</td>\n",
       "    </tr>\n",
       "    <tr>\n",
       "      <th>497</th>\n",
       "      <td>0</td>\n",
       "      <td>0.757478</td>\n",
       "      <td>0.838207</td>\n",
       "      <td>0.912903</td>\n",
       "      <td>0.188737</td>\n",
       "    </tr>\n",
       "    <tr>\n",
       "      <th>498</th>\n",
       "      <td>0</td>\n",
       "      <td>0.832964</td>\n",
       "      <td>0.881739</td>\n",
       "      <td>0.906626</td>\n",
       "      <td>0.104836</td>\n",
       "    </tr>\n",
       "    <tr>\n",
       "      <th>499</th>\n",
       "      <td>0</td>\n",
       "      <td>0.724200</td>\n",
       "      <td>0.894429</td>\n",
       "      <td>0.846716</td>\n",
       "      <td>0.096261</td>\n",
       "    </tr>\n",
       "  </tbody>\n",
       "</table>\n",
       "</div>"
      ],
      "text/plain": [
       "     Gender  Blood_component_A  Blood_component_B  Blood_component_C  \\\n",
       "495       0           0.855446           0.143323           0.126862   \n",
       "496       0           0.148134           0.872192           0.462765   \n",
       "497       0           0.757478           0.838207           0.912903   \n",
       "498       0           0.832964           0.881739           0.906626   \n",
       "499       0           0.724200           0.894429           0.846716   \n",
       "\n",
       "     Blood_component_D  \n",
       "495           0.565798  \n",
       "496           0.926937  \n",
       "497           0.188737  \n",
       "498           0.104836  \n",
       "499           0.096261  "
      ]
     },
     "execution_count": 129,
     "metadata": {},
     "output_type": "execute_result"
    }
   ],
   "source": [
    "# apply MinMaxScaler \n",
    "from sklearn.preprocessing import MinMaxScaler\n",
    "import warnings\n",
    "warnings.filterwarnings(\"ignore\")\n",
    "\n",
    "df_n = df.copy()\n",
    "min_max_scaler = MinMaxScaler()\n",
    "df_n=x = df.iloc[:, [0,1,2,3,4]] #selected only numerical parameters\n",
    "df_n.iloc[:, [1,2,3,4]] = min_max_scaler.fit_transform(df_n.iloc[:, [1,2,3,4]]) # min-max scaling\n",
    "# df_n.head()\n",
    "df_n.tail()"
   ]
  },
  {
   "cell_type": "markdown",
   "id": "efcb8db1",
   "metadata": {},
   "source": [
    "## 3. Show the data head."
   ]
  },
  {
   "cell_type": "code",
   "execution_count": 130,
   "id": "a82aaf00",
   "metadata": {},
   "outputs": [
    {
     "data": {
      "text/html": [
       "<div>\n",
       "<style scoped>\n",
       "    .dataframe tbody tr th:only-of-type {\n",
       "        vertical-align: middle;\n",
       "    }\n",
       "\n",
       "    .dataframe tbody tr th {\n",
       "        vertical-align: top;\n",
       "    }\n",
       "\n",
       "    .dataframe thead th {\n",
       "        text-align: right;\n",
       "    }\n",
       "</style>\n",
       "<table border=\"1\" class=\"dataframe\">\n",
       "  <thead>\n",
       "    <tr style=\"text-align: right;\">\n",
       "      <th></th>\n",
       "      <th>Gender</th>\n",
       "      <th>Blood_component_A</th>\n",
       "      <th>Blood_component_B</th>\n",
       "      <th>Blood_component_C</th>\n",
       "      <th>Blood_component_D</th>\n",
       "    </tr>\n",
       "  </thead>\n",
       "  <tbody>\n",
       "    <tr>\n",
       "      <th>0</th>\n",
       "      <td>1</td>\n",
       "      <td>0.748704</td>\n",
       "      <td>0.714282</td>\n",
       "      <td>0.935060</td>\n",
       "      <td>0.069483</td>\n",
       "    </tr>\n",
       "    <tr>\n",
       "      <th>1</th>\n",
       "      <td>1</td>\n",
       "      <td>0.130274</td>\n",
       "      <td>0.848421</td>\n",
       "      <td>0.592773</td>\n",
       "      <td>0.918334</td>\n",
       "    </tr>\n",
       "    <tr>\n",
       "      <th>2</th>\n",
       "      <td>1</td>\n",
       "      <td>0.764358</td>\n",
       "      <td>0.865653</td>\n",
       "      <td>0.944369</td>\n",
       "      <td>0.076149</td>\n",
       "    </tr>\n",
       "    <tr>\n",
       "      <th>3</th>\n",
       "      <td>1</td>\n",
       "      <td>0.594954</td>\n",
       "      <td>0.625141</td>\n",
       "      <td>0.496657</td>\n",
       "      <td>0.580727</td>\n",
       "    </tr>\n",
       "    <tr>\n",
       "      <th>4</th>\n",
       "      <td>1</td>\n",
       "      <td>0.708885</td>\n",
       "      <td>0.872835</td>\n",
       "      <td>0.866639</td>\n",
       "      <td>0.061197</td>\n",
       "    </tr>\n",
       "  </tbody>\n",
       "</table>\n",
       "</div>"
      ],
      "text/plain": [
       "   Gender  Blood_component_A  Blood_component_B  Blood_component_C  \\\n",
       "0       1           0.748704           0.714282           0.935060   \n",
       "1       1           0.130274           0.848421           0.592773   \n",
       "2       1           0.764358           0.865653           0.944369   \n",
       "3       1           0.594954           0.625141           0.496657   \n",
       "4       1           0.708885           0.872835           0.866639   \n",
       "\n",
       "   Blood_component_D  \n",
       "0           0.069483  \n",
       "1           0.918334  \n",
       "2           0.076149  \n",
       "3           0.580727  \n",
       "4           0.061197  "
      ]
     },
     "execution_count": 130,
     "metadata": {},
     "output_type": "execute_result"
    }
   ],
   "source": [
    "df_n.head()"
   ]
  },
  {
   "cell_type": "markdown",
   "id": "e629dfc7",
   "metadata": {},
   "source": [
    "##  4. Implement following using sk-learn:"
   ]
  },
  {
   "cell_type": "code",
   "execution_count": 131,
   "id": "dd257cef",
   "metadata": {},
   "outputs": [
    {
     "data": {
      "image/png": "[encoded data removed]",
      "text/plain": [
       "<Figure size 432x288 with 1 Axes>"
      ]
     },
     "metadata": {
      "needs_background": "light"
     },
     "output_type": "display_data"
    }
   ],
   "source": [
    "plt.scatter(df_n['Blood_component_A'],df_n['Blood_component_B'],s=15)\n",
    "plt.show()"
   ]
  },
  {
   "cell_type": "markdown",
   "id": "ec68ba21",
   "metadata": {},
   "source": [
    "### a. DBSCAN\n"
   ]
  },
  {
   "cell_type": "code",
   "execution_count": 13,
   "id": "a1dfc4c0",
   "metadata": {},
   "outputs": [],
   "source": [
    "from sklearn.cluster import DBSCAN\n",
    "db_default = DBSCAN(eps = 0.4, min_samples = 2).fit(df_n) #fit dataset\n",
    "labels = db_default.labels_"
   ]
  },
  {
   "cell_type": "code",
   "execution_count": 14,
   "id": "18c924f2",
   "metadata": {},
   "outputs": [
    {
     "data": {
      "text/plain": [
       "{0, 1, 2, 3}"
      ]
     },
     "execution_count": 14,
     "metadata": {},
     "output_type": "execute_result"
    }
   ],
   "source": [
    "set(labels)"
   ]
  },
  {
   "cell_type": "markdown",
   "id": "7429f882",
   "metadata": {},
   "source": [
    "### b. OPTICS"
   ]
  },
  {
   "cell_type": "code",
   "execution_count": 117,
   "id": "bb027534",
   "metadata": {},
   "outputs": [
    {
     "data": {
      "text/plain": [
       "{-1, 0, 1, 2, 3}"
      ]
     },
     "execution_count": 117,
     "metadata": {},
     "output_type": "execute_result"
    }
   ],
   "source": [
    "from sklearn.cluster import OPTICS\n",
    "\n",
    "# Building the OPTICS Clustering model\n",
    "optics_model = OPTICS(min_samples = 53, xi = 0.05)\n",
    "  \n",
    "# Training the model\n",
    "optics_model.fit(df_n)\n",
    "labels_Optics = optics_model.labels_\n",
    "set(labels_Optics)"
   ]
  },
  {
   "cell_type": "markdown",
   "id": "d9cf53fa",
   "metadata": {},
   "source": [
    "## 5. Find total no of variation of the disease"
   ]
  },
  {
   "cell_type": "markdown",
   "id": "fc5cd4da",
   "metadata": {},
   "source": [
    "Since there were **4** labels from the dataset after DBSCAN, thus 4 no. of variations of disease."
   ]
  },
  {
   "cell_type": "markdown",
   "id": "8ad8148d",
   "metadata": {},
   "source": [
    "## 6. Find total no of noise points in data using DBSCAN"
   ]
  },
  {
   "cell_type": "markdown",
   "id": "26d30f43",
   "metadata": {},
   "source": [
    "Don't have any -1 label from the DBSCAN with the mentioned parameters so **0** outliers."
   ]
  },
  {
   "cell_type": "markdown",
   "id": "00749762",
   "metadata": {},
   "source": [
    "## 7. Create 2D-plot for all clusters using all required features."
   ]
  },
  {
   "cell_type": "code",
   "execution_count": 18,
   "id": "19568f3a",
   "metadata": {},
   "outputs": [
    {
     "data": {
      "image/png": "[encoded data removed]",
      "text/plain": [
       "<Figure size 432x288 with 1 Axes>"
      ]
     },
     "metadata": {
      "needs_background": "light"
     },
     "output_type": "display_data"
    }
   ],
   "source": [
    "from sklearn.decomposition import PCA\n",
    "pca = PCA(n_components=2)\n",
    "X_r = pca.fit(df_n).transform(df_n)\n",
    "plt.figure()\n",
    "plt.scatter(X_r[:,0],X_r[:,1])\n",
    "plt.title(\"PCA of dataset\")\n",
    "plt.show()\n",
    "\n",
    "# X_r"
   ]
  },
  {
   "cell_type": "markdown",
   "id": "78a4aba5",
   "metadata": {},
   "source": [
    "## 8. Implement following from scratch:\n",
    "    a. DENCLUE\n",
    "    b. STING\n",
    "    c. CLIQUE"
   ]
  }
 ],
 "metadata": {
  "kernelspec": {
   "display_name": "Python 3.9.12 ('base')",
   "language": "python",
   "name": "python3"
  },
  "language_info": {
   "codemirror_mode": {
    "name": "ipython",
    "version": 3
   },
   "file_extension": ".py",
   "mimetype": "text/x-python",
   "name": "python",
   "nbconvert_exporter": "python",
   "pygments_lexer": "ipython3",
   "version": "3.9.12"
  },
  "vscode": {
   "interpreter": {
    "hash": "caf1c2fcf97217de91eafa76b907d50f9ea378f5ffbee7f571142d119bb6a771"
   }
  }
 },
 "nbformat": 4,
 "nbformat_minor": 5
}
