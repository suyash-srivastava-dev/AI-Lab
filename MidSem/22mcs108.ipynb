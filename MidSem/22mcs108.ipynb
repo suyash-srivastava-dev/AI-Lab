{
 "cells": [
  {
   "cell_type": "markdown",
   "metadata": {},
   "source": [
    "## Suyash Srivastava, 22MCS108\n"
   ]
  },
  {
   "cell_type": "code",
   "execution_count": 72,
   "metadata": {},
   "outputs": [
    {
     "data": {
      "text/html": [
       "<div>\n",
       "<style scoped>\n",
       "    .dataframe tbody tr th:only-of-type {\n",
       "        vertical-align: middle;\n",
       "    }\n",
       "\n",
       "    .dataframe tbody tr th {\n",
       "        vertical-align: top;\n",
       "    }\n",
       "\n",
       "    .dataframe thead th {\n",
       "        text-align: right;\n",
       "    }\n",
       "</style>\n",
       "<table border=\"1\" class=\"dataframe\">\n",
       "  <thead>\n",
       "    <tr style=\"text-align: right;\">\n",
       "      <th></th>\n",
       "      <th>Branch_Plant</th>\n",
       "      <th>Item_Nbr</th>\n",
       "      <th>Item_Desc1</th>\n",
       "      <th>Item_Desc2</th>\n",
       "      <th>Lot_Nbr</th>\n",
       "      <th>Location</th>\n",
       "      <th>Product_Line_Code</th>\n",
       "      <th>Product_Line</th>\n",
       "      <th>Item_Type_Code</th>\n",
       "      <th>Item_Type</th>\n",
       "      <th>...</th>\n",
       "      <th>Qty_On_Hand</th>\n",
       "      <th>Qty_Hard_Committed</th>\n",
       "      <th>Total_Value</th>\n",
       "      <th>Total_Value_In_Lacs</th>\n",
       "      <th>Qty_Soft_Committed</th>\n",
       "      <th>Qty_Work_Order_Hard_Committed</th>\n",
       "      <th>Qty_Future_Committed</th>\n",
       "      <th>Qty_Available</th>\n",
       "      <th>Year_Expiry</th>\n",
       "      <th>Item_Month_Aging.1</th>\n",
       "    </tr>\n",
       "  </thead>\n",
       "  <tbody>\n",
       "    <tr>\n",
       "      <th>0</th>\n",
       "      <td>91210</td>\n",
       "      <td>8270310</td>\n",
       "      <td>Dummy Value 48</td>\n",
       "      <td>Dummy Value 95</td>\n",
       "      <td>Dummy Value 100</td>\n",
       "      <td>SSBULK</td>\n",
       "      <td>101</td>\n",
       "      <td>Knees</td>\n",
       "      <td>IMP</td>\n",
       "      <td>Implant SKU</td>\n",
       "      <td>...</td>\n",
       "      <td>24</td>\n",
       "      <td>0</td>\n",
       "      <td>132631.38</td>\n",
       "      <td>1.33</td>\n",
       "      <td>0</td>\n",
       "      <td>0</td>\n",
       "      <td>0</td>\n",
       "      <td>24</td>\n",
       "      <td>2023</td>\n",
       "      <td>1</td>\n",
       "    </tr>\n",
       "    <tr>\n",
       "      <th>1</th>\n",
       "      <td>91210</td>\n",
       "      <td>71150004</td>\n",
       "      <td>Dummy Value 31</td>\n",
       "      <td>Dummy Value 75</td>\n",
       "      <td>Dummy Value 54</td>\n",
       "      <td>G12ES1E01</td>\n",
       "      <td>101</td>\n",
       "      <td>Knees</td>\n",
       "      <td>IMP</td>\n",
       "      <td>Implant SKU</td>\n",
       "      <td>...</td>\n",
       "      <td>3</td>\n",
       "      <td>0</td>\n",
       "      <td>20938.15</td>\n",
       "      <td>0.21</td>\n",
       "      <td>0</td>\n",
       "      <td>0</td>\n",
       "      <td>0</td>\n",
       "      <td>3</td>\n",
       "      <td>2023</td>\n",
       "      <td>3</td>\n",
       "    </tr>\n",
       "    <tr>\n",
       "      <th>2</th>\n",
       "      <td>91210</td>\n",
       "      <td>71150003</td>\n",
       "      <td>Dummy Value 31</td>\n",
       "      <td>Dummy Value 89</td>\n",
       "      <td>Dummy Value 39</td>\n",
       "      <td>G01FS1B01</td>\n",
       "      <td>101</td>\n",
       "      <td>Knees</td>\n",
       "      <td>IMP</td>\n",
       "      <td>Implant SKU</td>\n",
       "      <td>...</td>\n",
       "      <td>8</td>\n",
       "      <td>0</td>\n",
       "      <td>55917.15</td>\n",
       "      <td>0.56</td>\n",
       "      <td>0</td>\n",
       "      <td>0</td>\n",
       "      <td>0</td>\n",
       "      <td>8</td>\n",
       "      <td>2023</td>\n",
       "      <td>5</td>\n",
       "    </tr>\n",
       "    <tr>\n",
       "      <th>3</th>\n",
       "      <td>91210</td>\n",
       "      <td>234010061</td>\n",
       "      <td>Dummy Value 74</td>\n",
       "      <td>Dummy Value 36</td>\n",
       "      <td>Dummy Value 32</td>\n",
       "      <td>T01AS1C01</td>\n",
       "      <td>105</td>\n",
       "      <td>Surgical Implants</td>\n",
       "      <td>IMP</td>\n",
       "      <td>Implant SKU</td>\n",
       "      <td>...</td>\n",
       "      <td>10</td>\n",
       "      <td>0</td>\n",
       "      <td>33614.42</td>\n",
       "      <td>0.34</td>\n",
       "      <td>0</td>\n",
       "      <td>0</td>\n",
       "      <td>0</td>\n",
       "      <td>10</td>\n",
       "      <td>2020</td>\n",
       "      <td>31</td>\n",
       "    </tr>\n",
       "    <tr>\n",
       "      <th>4</th>\n",
       "      <td>91209</td>\n",
       "      <td>5545A701</td>\n",
       "      <td>Dummy Value 16</td>\n",
       "      <td>Dummy Value 53</td>\n",
       "      <td>Dummy Value 98</td>\n",
       "      <td>P02AS1A01</td>\n",
       "      <td>101</td>\n",
       "      <td>Knees</td>\n",
       "      <td>IMP</td>\n",
       "      <td>Implant SKU</td>\n",
       "      <td>...</td>\n",
       "      <td>2</td>\n",
       "      <td>0</td>\n",
       "      <td>27788.00</td>\n",
       "      <td>0.28</td>\n",
       "      <td>0</td>\n",
       "      <td>0</td>\n",
       "      <td>0</td>\n",
       "      <td>2</td>\n",
       "      <td>2022</td>\n",
       "      <td>15</td>\n",
       "    </tr>\n",
       "  </tbody>\n",
       "</table>\n",
       "<p>5 rows × 32 columns</p>\n",
       "</div>"
      ],
      "text/plain": [
       "   Branch_Plant   Item_Nbr      Item_Desc1      Item_Desc2          Lot_Nbr  \\\n",
       "0         91210    8270310  Dummy Value 48  Dummy Value 95  Dummy Value 100   \n",
       "1         91210   71150004  Dummy Value 31  Dummy Value 75   Dummy Value 54   \n",
       "2         91210   71150003  Dummy Value 31  Dummy Value 89   Dummy Value 39   \n",
       "3         91210  234010061  Dummy Value 74  Dummy Value 36   Dummy Value 32   \n",
       "4         91209   5545A701  Dummy Value 16  Dummy Value 53   Dummy Value 98   \n",
       "\n",
       "    Location  Product_Line_Code       Product_Line Item_Type_Code  \\\n",
       "0     SSBULK                101              Knees            IMP   \n",
       "1  G12ES1E01                101              Knees            IMP   \n",
       "2  G01FS1B01                101              Knees            IMP   \n",
       "3  T01AS1C01                105  Surgical Implants            IMP   \n",
       "4  P02AS1A01                101              Knees            IMP   \n",
       "\n",
       "     Item_Type  ... Qty_On_Hand Qty_Hard_Committed Total_Value  \\\n",
       "0  Implant SKU  ...          24                  0   132631.38   \n",
       "1  Implant SKU  ...           3                  0    20938.15   \n",
       "2  Implant SKU  ...           8                  0    55917.15   \n",
       "3  Implant SKU  ...          10                  0    33614.42   \n",
       "4  Implant SKU  ...           2                  0    27788.00   \n",
       "\n",
       "  Total_Value_In_Lacs  Qty_Soft_Committed  Qty_Work_Order_Hard_Committed  \\\n",
       "0                1.33                   0                              0   \n",
       "1                0.21                   0                              0   \n",
       "2                0.56                   0                              0   \n",
       "3                0.34                   0                              0   \n",
       "4                0.28                   0                              0   \n",
       "\n",
       "  Qty_Future_Committed Qty_Available Year_Expiry  Item_Month_Aging.1  \n",
       "0                    0            24        2023                   1  \n",
       "1                    0             3        2023                   3  \n",
       "2                    0             8        2023                   5  \n",
       "3                    0            10        2020                  31  \n",
       "4                    0             2        2022                  15  \n",
       "\n",
       "[5 rows x 32 columns]"
      ]
     },
     "execution_count": 72,
     "metadata": {},
     "output_type": "execute_result"
    }
   ],
   "source": [
    "import pandas as pd\n",
    "df=pd.read_csv(\"./ortho.csv\")\n",
    "df.head()"
   ]
  },
  {
   "cell_type": "markdown",
   "metadata": {},
   "source": [
    "## 1. Top 5 products"
   ]
  },
  {
   "cell_type": "code",
   "execution_count": 101,
   "metadata": {},
   "outputs": [
    {
     "data": {
      "text/plain": [
       "['Cranio-Maxillofacial',\n",
       " 'Video',\n",
       " 'MEDPOR',\n",
       " 'General Surgery',\n",
       " 'NSE Other (incl ENT&SilverGli)',\n",
       " 'Neuro',\n",
       " 'Navigation',\n",
       " 'Thoraco-Lumbar',\n",
       " 'Interbody Devices',\n",
       " 'Micro - NSE',\n",
       " 'Endoscopy Service',\n",
       " 'Cervical',\n",
       " 'Interventional Pain']"
      ]
     },
     "execution_count": 101,
     "metadata": {},
     "output_type": "execute_result"
    }
   ],
   "source": [
    "import seaborn as sn\n",
    "import numpy as np\n",
    "tsortedDf=set(df.Product_Line)\n",
    "# n=len(tsortedDf)\n",
    "arr=list(tsortedDf)\n",
    "arr"
   ]
  },
  {
   "cell_type": "code",
   "execution_count": 113,
   "metadata": {},
   "outputs": [
    {
     "data": {
      "text/plain": [
       "13"
      ]
     },
     "execution_count": 113,
     "metadata": {},
     "output_type": "execute_result"
    }
   ],
   "source": [
    "n=len(arr)\n",
    "n"
   ]
  },
  {
   "cell_type": "code",
   "execution_count": 124,
   "metadata": {},
   "outputs": [
    {
     "name": "stdout",
     "output_type": "stream",
     "text": [
      "0 Cranio-Maxillofacial 67\n",
      "1 Video 45\n",
      "2 MEDPOR 6\n",
      "3 General Surgery 60\n",
      "4 NSE Other (incl ENT&SilverGli) 25\n",
      "5 Neuro 12\n",
      "6 Navigation 13\n",
      "7 Thoraco-Lumbar 44\n",
      "8 Interbody Devices 5\n",
      "9 Micro - NSE 49\n",
      "10 Endoscopy Service 1\n",
      "11 Cervical 6\n",
      "12 Interventional Pain 4\n"
     ]
    }
   ],
   "source": [
    "arrLabel=[]\n",
    "arrCount=[]\n",
    "j=0\n",
    "for i in arr:\n",
    "    x=df.loc[df.Product_Line==i]\n",
    "    t=x.Qty_Available.count()\n",
    "    print(j,i,t)\n",
    "    arrLabel.append(i)\n",
    "    arrCount.append(t)\n",
    "    j=j+1\n",
    "    # arrCount.add(i,t)    "
   ]
  },
  {
   "cell_type": "code",
   "execution_count": 131,
   "metadata": {},
   "outputs": [
    {
     "name": "stdout",
     "output_type": "stream",
     "text": [
      "[67, 45, 6, 60, 25, 12, 13, 44, 5, 49, 1, 6, 4]\n",
      "['Cranio-Maxillofacial', 'Video', 'MEDPOR', 'General Surgery', 'NSE Other (incl ENT&SilverGli)', 'Neuro', 'Navigation', 'Thoraco-Lumbar', 'Interbody Devices', 'Micro - NSE', 'Endoscopy Service', 'Cervical', 'Interventional Pain']\n"
     ]
    }
   ],
   "source": [
    "print(arrCount)\n",
    "print(arrLabel)"
   ]
  },
  {
   "cell_type": "code",
   "execution_count": 128,
   "metadata": {},
   "outputs": [
    {
     "data": {
      "text/html": [
       "<div>\n",
       "<style scoped>\n",
       "    .dataframe tbody tr th:only-of-type {\n",
       "        vertical-align: middle;\n",
       "    }\n",
       "\n",
       "    .dataframe tbody tr th {\n",
       "        vertical-align: top;\n",
       "    }\n",
       "\n",
       "    .dataframe thead th {\n",
       "        text-align: right;\n",
       "    }\n",
       "</style>\n",
       "<table border=\"1\" class=\"dataframe\">\n",
       "  <thead>\n",
       "    <tr style=\"text-align: right;\">\n",
       "      <th></th>\n",
       "      <th>Label</th>\n",
       "      <th>Count</th>\n",
       "    </tr>\n",
       "  </thead>\n",
       "  <tbody>\n",
       "    <tr>\n",
       "      <th>0</th>\n",
       "      <td>Cranio-Maxillofacial</td>\n",
       "      <td>67</td>\n",
       "    </tr>\n",
       "    <tr>\n",
       "      <th>3</th>\n",
       "      <td>General Surgery</td>\n",
       "      <td>60</td>\n",
       "    </tr>\n",
       "    <tr>\n",
       "      <th>1</th>\n",
       "      <td>Video</td>\n",
       "      <td>45</td>\n",
       "    </tr>\n",
       "    <tr>\n",
       "      <th>4</th>\n",
       "      <td>NSE Other (incl ENT&amp;SilverGli)</td>\n",
       "      <td>25</td>\n",
       "    </tr>\n",
       "    <tr>\n",
       "      <th>2</th>\n",
       "      <td>MEDPOR</td>\n",
       "      <td>6</td>\n",
       "    </tr>\n",
       "  </tbody>\n",
       "</table>\n",
       "</div>"
      ],
      "text/plain": [
       "                            Label  Count\n",
       "0            Cranio-Maxillofacial     67\n",
       "3                 General Surgery     60\n",
       "1                           Video     45\n",
       "4  NSE Other (incl ENT&SilverGli)     25\n",
       "2                          MEDPOR      6"
      ]
     },
     "execution_count": 128,
     "metadata": {},
     "output_type": "execute_result"
    }
   ],
   "source": [
    "dataCount=pd.DataFrame(list(zip(arrLabel,arrCount)),columns=['Label','Count'])\n",
    "\n",
    "dataForPlot=dataCount.head().sort_values(by='Count',ascending=False)\n",
    "dataForPlot.head()"
   ]
  },
  {
   "cell_type": "code",
   "execution_count": 130,
   "metadata": {},
   "outputs": [
    {
     "data": {
      "text/plain": [
       "<AxesSubplot:xlabel='Count', ylabel='Label'>"
      ]
     },
     "execution_count": 130,
     "metadata": {},
     "output_type": "execute_result"
    },
    {
     "data": {
      "image/png": "[encoded data removed]",
      "text/plain": [
       "<Figure size 1440x595.44 with 1 Axes>"
      ]
     },
     "metadata": {},
     "output_type": "display_data"
    }
   ],
   "source": [
    "sn.barplot(x=dataForPlot.Count,y=dataForPlot.Label)"
   ]
  },
  {
   "cell_type": "code",
   "execution_count": 75,
   "metadata": {},
   "outputs": [
    {
     "data": {
      "text/plain": [
       "Knees                384\n",
       "Hips                 146\n",
       "Surgical Implants     87\n",
       "LB Power Tools        74\n",
       "SB Power Tools        42\n",
       "Name: Product_Line, dtype: int64"
      ]
     },
     "execution_count": 75,
     "metadata": {},
     "output_type": "execute_result"
    }
   ],
   "source": [
    "import seaborn as sn\n",
    "import numpy as np\n",
    "tsortedDf=set(df.Product_Line)\n",
    "# n=len(tsortedDf)\n",
    "arr=list(tsortedDf)\n",
    "t=df.Product_Line.value_counts()\n",
    "topFive=t.head(5)\n",
    "topFive"
   ]
  },
  {
   "cell_type": "code",
   "execution_count": 76,
   "metadata": {},
   "outputs": [
    {
     "name": "stderr",
     "output_type": "stream",
     "text": [
      "/home/ubuntu/anaconda3/lib/python3.9/site-packages/seaborn/_decorators.py:36: FutureWarning: Pass the following variable as a keyword arg: x. From version 0.12, the only valid positional argument will be `data`, and passing other arguments without an explicit keyword will result in an error or misinterpretation.\n",
      "  warnings.warn(\n"
     ]
    },
    {
     "data": {
      "text/plain": [
       "<AxesSubplot:>"
      ]
     },
     "execution_count": 76,
     "metadata": {},
     "output_type": "execute_result"
    },
    {
     "data": {
      "image/png": "[encoded data removed]",
      "text/plain": [
       "<Figure size 1440x595.44 with 1 Axes>"
      ]
     },
     "metadata": {},
     "output_type": "display_data"
    }
   ],
   "source": [
    "label=['Knees','Hips','Surgical Implants','LB Power Tools','SB Power Tools']\n",
    "arr=np.array(topFive)\n",
    "sn.barplot(arr,y=label)"
   ]
  },
  {
   "cell_type": "markdown",
   "metadata": {},
   "source": [
    "## 2. Branch Plant Split"
   ]
  },
  {
   "cell_type": "code",
   "execution_count": 77,
   "metadata": {},
   "outputs": [
    {
     "data": {
      "image/png": "[encoded data removed]",
      "text/plain": [
       "<Figure size 1440x595.44 with 1 Axes>"
      ]
     },
     "metadata": {},
     "output_type": "display_data"
    }
   ],
   "source": [
    "import matplotlib.pyplot as plt\n",
    "arr=[91210,91209]\n",
    "t=df.Branch_Plant.value_counts()\n",
    "plt.pie(t,labels=arr)\n",
    "plt.legend(title = \"Branch_Plant:\")\n",
    "plt.show()"
   ]
  },
  {
   "cell_type": "markdown",
   "metadata": {},
   "source": [
    "## 3. Item Type Split"
   ]
  },
  {
   "cell_type": "code",
   "execution_count": 79,
   "metadata": {},
   "outputs": [
    {
     "data": {
      "text/plain": [
       "<AxesSubplot:xlabel='Item_Type', ylabel='count'>"
      ]
     },
     "execution_count": 79,
     "metadata": {},
     "output_type": "execute_result"
    },
    {
     "data": {
      "image/png": "[encoded data removed]",
      "text/plain": [
       "<Figure size 1440x595.44 with 1 Axes>"
      ]
     },
     "metadata": {},
     "output_type": "display_data"
    }
   ],
   "source": [
    "sn.set(rc={'figure.figsize':(20,8.27)})\n",
    "sn.countplot(x =df.Item_Type)"
   ]
  },
  {
   "cell_type": "markdown",
   "metadata": {},
   "source": [
    "## 4. Upcoming Item Expiry"
   ]
  },
  {
   "cell_type": "code",
   "execution_count": 80,
   "metadata": {},
   "outputs": [
    {
     "data": {
      "text/plain": [
       "2019     42\n",
       "2020     79\n",
       "2021    100\n",
       "2022    197\n",
       "2023    192\n",
       "2037      1\n",
       "2038      1\n",
       "2040     69\n",
       "2099    102\n",
       "Name: Year_Expiry, dtype: int64"
      ]
     },
     "execution_count": 80,
     "metadata": {},
     "output_type": "execute_result"
    }
   ],
   "source": [
    "val=df.Year_Expiry.value_counts()\n",
    "val=val.sort_index()\n",
    "val"
   ]
  },
  {
   "cell_type": "code",
   "execution_count": 81,
   "metadata": {},
   "outputs": [
    {
     "data": {
      "text/plain": [
       "[2019, 2020, 2021, 2022, 2023, 2099, 2037, 2038, 2040]"
      ]
     },
     "execution_count": 81,
     "metadata": {},
     "output_type": "execute_result"
    }
   ],
   "source": [
    "t=set(np.array(df.Year_Expiry))\n",
    "listOfSet = list(t)\n",
    "listOfSet"
   ]
  },
  {
   "cell_type": "code",
   "execution_count": 82,
   "metadata": {},
   "outputs": [
    {
     "data": {
      "text/plain": [
       "<AxesSubplot:xlabel='Year_Expiry', ylabel='Count'>"
      ]
     },
     "execution_count": 82,
     "metadata": {},
     "output_type": "execute_result"
    },
    {
     "data": {
      "image/png": "[encoded data removed]",
      "text/plain": [
       "<Figure size 1440x595.44 with 1 Axes>"
      ]
     },
     "metadata": {},
     "output_type": "display_data"
    }
   ],
   "source": [
    "sn.histplot(df.Year_Expiry)\n",
    "# plt.grid()"
   ]
  },
  {
   "cell_type": "code",
   "execution_count": 83,
   "metadata": {},
   "outputs": [
    {
     "name": "stdout",
     "output_type": "stream",
     "text": [
      "<class 'pandas.core.frame.DataFrame'>\n",
      "RangeIndex: 337 entries, 0 to 336\n",
      "Data columns (total 32 columns):\n",
      " #   Column                         Non-Null Count  Dtype  \n",
      "---  ------                         --------------  -----  \n",
      " 0   Branch_Plant                   337 non-null    int64  \n",
      " 1   Item_Nbr                       337 non-null    object \n",
      " 2   Item_Desc1                     337 non-null    object \n",
      " 3   Item_Desc2                     337 non-null    object \n",
      " 4   Lot_Nbr                        337 non-null    object \n",
      " 5   Location                       337 non-null    object \n",
      " 6   Product_Line_Code              337 non-null    int64  \n",
      " 7   Product_Line                   337 non-null    object \n",
      " 8   Item_Type_Code                 337 non-null    object \n",
      " 9   Item_Type                      337 non-null    object \n",
      " 10  Product_Level3                 337 non-null    object \n",
      " 11  Product_Level4                 337 non-null    object \n",
      " 12  Product_Level5                 337 non-null    object \n",
      " 13  First_GRN_Date                 337 non-null    object \n",
      " 14  Item_Year_Aging                337 non-null    int64  \n",
      " 15  Item_Month_Aging               337 non-null    int64  \n",
      " 16  Expiry_Date                    337 non-null    object \n",
      " 17  Manufacturing_Date_(PRC only)  36 non-null     object \n",
      " 18  UOM                            337 non-null    object \n",
      " 19  Pack_Content                   337 non-null    int64  \n",
      " 20  Lot_Status                     6 non-null      object \n",
      " 21  Unit_Cost                      337 non-null    float64\n",
      " 22  Qty_On_Hand                    337 non-null    int64  \n",
      " 23  Qty_Hard_Committed             337 non-null    int64  \n",
      " 24  Total_Value                    337 non-null    float64\n",
      " 25  Total_Value_In_Lacs            337 non-null    float64\n",
      " 26  Qty_Soft_Committed             337 non-null    int64  \n",
      " 27  Qty_Work_Order_Hard_Committed  337 non-null    int64  \n",
      " 28  Qty_Future_Committed           337 non-null    int64  \n",
      " 29  Qty_Available                  337 non-null    int64  \n",
      " 30  Year_Expiry                    337 non-null    int64  \n",
      " 31  Item_Month_Aging.1             337 non-null    int64  \n",
      "dtypes: float64(3), int64(13), object(16)\n",
      "memory usage: 84.4+ KB\n"
     ]
    }
   ],
   "source": [
    "import pandas as pd\n",
    "df=pd.read_csv(\"./part1.csv\")\n",
    "df.info()"
   ]
  },
  {
   "cell_type": "code",
   "execution_count": 84,
   "metadata": {},
   "outputs": [
    {
     "data": {
      "text/plain": [
       "Product_Line     Total_Value\n",
       "General Surgery  7909.82        3\n",
       "Video            74508.12       2\n",
       "                 64285.95       2\n",
       "General Surgery  7367.98        2\n",
       "                 75404.60       2\n",
       "dtype: int64"
      ]
     },
     "execution_count": 84,
     "metadata": {},
     "output_type": "execute_result"
    }
   ],
   "source": [
    "df.dropna()\n",
    "tsortedDf=set(df.Product_Line)\n",
    "n=len(tsortedDf)\n",
    "t=df.filter(items=['Product_Line','Total_Value']).value_counts()\n",
    "topFive=t.head(5)\n",
    "topFive\n",
    "\n"
   ]
  },
  {
   "cell_type": "code",
   "execution_count": 85,
   "metadata": {},
   "outputs": [
    {
     "data": {
      "text/plain": [
       "<AxesSubplot:>"
      ]
     },
     "execution_count": 85,
     "metadata": {},
     "output_type": "execute_result"
    },
    {
     "data": {
      "image/png": "[encoded data removed]",
      "text/plain": [
       "<Figure size 1440x595.44 with 1 Axes>"
      ]
     },
     "metadata": {},
     "output_type": "display_data"
    }
   ],
   "source": [
    "label=['Video','Micro - NSE','Cranio-Maxillofacial','General Surgery','Interventional Plan']\n",
    "sn.barplot(x=topFive,y=label)"
   ]
  }
 ],
 "metadata": {
  "kernelspec": {
   "display_name": "Python 3.9.12 ('base')",
   "language": "python",
   "name": "python3"
  },
  "language_info": {
   "codemirror_mode": {
    "name": "ipython",
    "version": 3
   },
   "file_extension": ".py",
   "mimetype": "text/x-python",
   "name": "python",
   "nbconvert_exporter": "python",
   "pygments_lexer": "ipython3",
   "version": "3.9.12"
  },
  "orig_nbformat": 4,
  "vscode": {
   "interpreter": {
    "hash": "caf1c2fcf97217de91eafa76b907d50f9ea378f5ffbee7f571142d119bb6a771"
   }
  }
 },
 "nbformat": 4,
 "nbformat_minor": 2
}
